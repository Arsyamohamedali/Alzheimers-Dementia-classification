{
  "nbformat": 4,
  "nbformat_minor": 0,
  "metadata": {
    "colab": {
      "name": "ML TERM PROJECT - Dementia.ipynb",
      "provenance": [],
      "collapsed_sections": []
    },
    "kernelspec": {
      "name": "python3",
      "display_name": "Python 3"
    },
    "language_info": {
      "name": "python"
    },
    "accelerator": "GPU"
  },
  "cells": [
    {
      "cell_type": "markdown",
      "source": [
        "### **IMPORTING THE LIBRARIES & LOADING THE DATA**"
      ],
      "metadata": {
        "id": "wFXaYS86qP6Q"
      }
    },
    {
      "cell_type": "code",
      "source": [
        "# Importing the necessary libraries\n",
        "!pip install boruta\n",
        "import numpy as np \n",
        "import pandas as pd \n",
        "# For Data Visualization \n",
        "import seaborn as sns                       \n",
        "import matplotlib.pyplot as plt  \n",
        "from prettytable import PrettyTable                      \n",
        "import warnings \n",
        "warnings.filterwarnings('ignore')   # for ignoring warnings in notebook\n",
        "# add graphs into colab notebook       \n",
        "%matplotlib inline                          \n",
        "\n",
        "import statsmodels.api as sm                        \n",
        "from sklearn import model_selection                                  \n",
        "from sklearn.model_selection import train_test_split      \n",
        "from sklearn.model_selection import GridSearchCV\n",
        "from sklearn.model_selection import StratifiedKFold\n",
        "from sklearn.preprocessing import StandardScaler      # Scaling\n",
        "from sklearn.impute import SimpleImputer\n",
        "\n",
        "# getting methods for confusion matrix, F1 score, Accuracy Score\n",
        "from sklearn import metrics                                          \n",
        "from sklearn.metrics import confusion_matrix,f1_score,accuracy_score,classification_report,roc_curve,auc,average_precision_score\n",
        "\n",
        "from sklearn.linear_model import LogisticRegression     # For logistic Regression\n",
        "from sklearn.naive_bayes import GaussianNB              # For Naive Bayes classifier\n",
        "from sklearn.neighbors import KNeighborsClassifier      # For K-NN Classifier\n",
        "from sklearn.svm import SVC                             # For support vector machine based classifier\n",
        "from sklearn.tree import DecisionTreeClassifier         # For Decision tree\n",
        "\n",
        "# for ensemble\n",
        "from sklearn.ensemble import StackingClassifier\n",
        "from sklearn.ensemble import RandomForestClassifier\n",
        "from sklearn.ensemble import AdaBoostClassifier\n",
        "from xgboost import XGBClassifier"
      ],
      "metadata": {
        "id": "d8KBGqaeFWR7"
      },
      "execution_count": null,
      "outputs": []
    },
    {
      "cell_type": "code",
      "source": [
        "# loading the dataset - oasis_longitudinal.csv\n",
        "Data = pd.read_csv(\"/content/drive/MyDrive/Colab Notebooks/DATA/oasis_longitudinal.csv\")                                                                             # using pandas read_csv function to load dataset into pdData variable\n",
        "Data.head() "
      ],
      "metadata": {
        "colab": {
          "base_uri": "https://localhost:8080/",
          "height": 206
        },
        "id": "52NyQF0aTM0x",
        "outputId": "7ee7c546-21cf-43de-baf8-d8c1da7e44b1"
      },
      "execution_count": null,
      "outputs": [
        {
          "output_type": "execute_result",
          "data": {
            "text/html": [
              "\n",
              "  <div id=\"df-fdea5ca3-a85c-4703-8e28-4a6a00259191\">\n",
              "    <div class=\"colab-df-container\">\n",
              "      <div>\n",
              "<style scoped>\n",
              "    .dataframe tbody tr th:only-of-type {\n",
              "        vertical-align: middle;\n",
              "    }\n",
              "\n",
              "    .dataframe tbody tr th {\n",
              "        vertical-align: top;\n",
              "    }\n",
              "\n",
              "    .dataframe thead th {\n",
              "        text-align: right;\n",
              "    }\n",
              "</style>\n",
              "<table border=\"1\" class=\"dataframe\">\n",
              "  <thead>\n",
              "    <tr style=\"text-align: right;\">\n",
              "      <th></th>\n",
              "      <th>Subject ID</th>\n",
              "      <th>MRI ID</th>\n",
              "      <th>Group</th>\n",
              "      <th>Visit</th>\n",
              "      <th>MR Delay</th>\n",
              "      <th>M/F</th>\n",
              "      <th>Hand</th>\n",
              "      <th>Age</th>\n",
              "      <th>EDUC</th>\n",
              "      <th>SES</th>\n",
              "      <th>MMSE</th>\n",
              "      <th>CDR</th>\n",
              "      <th>eTIV</th>\n",
              "      <th>nWBV</th>\n",
              "      <th>ASF</th>\n",
              "    </tr>\n",
              "  </thead>\n",
              "  <tbody>\n",
              "    <tr>\n",
              "      <th>0</th>\n",
              "      <td>OAS2_0001</td>\n",
              "      <td>OAS2_0001_MR1</td>\n",
              "      <td>Nondemented</td>\n",
              "      <td>1</td>\n",
              "      <td>0</td>\n",
              "      <td>M</td>\n",
              "      <td>R</td>\n",
              "      <td>87</td>\n",
              "      <td>14</td>\n",
              "      <td>2.0</td>\n",
              "      <td>27.0</td>\n",
              "      <td>0.0</td>\n",
              "      <td>1987</td>\n",
              "      <td>0.696</td>\n",
              "      <td>0.883</td>\n",
              "    </tr>\n",
              "    <tr>\n",
              "      <th>1</th>\n",
              "      <td>OAS2_0001</td>\n",
              "      <td>OAS2_0001_MR2</td>\n",
              "      <td>Nondemented</td>\n",
              "      <td>2</td>\n",
              "      <td>457</td>\n",
              "      <td>M</td>\n",
              "      <td>R</td>\n",
              "      <td>88</td>\n",
              "      <td>14</td>\n",
              "      <td>2.0</td>\n",
              "      <td>30.0</td>\n",
              "      <td>0.0</td>\n",
              "      <td>2004</td>\n",
              "      <td>0.681</td>\n",
              "      <td>0.876</td>\n",
              "    </tr>\n",
              "    <tr>\n",
              "      <th>2</th>\n",
              "      <td>OAS2_0002</td>\n",
              "      <td>OAS2_0002_MR1</td>\n",
              "      <td>Demented</td>\n",
              "      <td>1</td>\n",
              "      <td>0</td>\n",
              "      <td>M</td>\n",
              "      <td>R</td>\n",
              "      <td>75</td>\n",
              "      <td>12</td>\n",
              "      <td>NaN</td>\n",
              "      <td>23.0</td>\n",
              "      <td>0.5</td>\n",
              "      <td>1678</td>\n",
              "      <td>0.736</td>\n",
              "      <td>1.046</td>\n",
              "    </tr>\n",
              "    <tr>\n",
              "      <th>3</th>\n",
              "      <td>OAS2_0002</td>\n",
              "      <td>OAS2_0002_MR2</td>\n",
              "      <td>Demented</td>\n",
              "      <td>2</td>\n",
              "      <td>560</td>\n",
              "      <td>M</td>\n",
              "      <td>R</td>\n",
              "      <td>76</td>\n",
              "      <td>12</td>\n",
              "      <td>NaN</td>\n",
              "      <td>28.0</td>\n",
              "      <td>0.5</td>\n",
              "      <td>1738</td>\n",
              "      <td>0.713</td>\n",
              "      <td>1.010</td>\n",
              "    </tr>\n",
              "    <tr>\n",
              "      <th>4</th>\n",
              "      <td>OAS2_0002</td>\n",
              "      <td>OAS2_0002_MR3</td>\n",
              "      <td>Demented</td>\n",
              "      <td>3</td>\n",
              "      <td>1895</td>\n",
              "      <td>M</td>\n",
              "      <td>R</td>\n",
              "      <td>80</td>\n",
              "      <td>12</td>\n",
              "      <td>NaN</td>\n",
              "      <td>22.0</td>\n",
              "      <td>0.5</td>\n",
              "      <td>1698</td>\n",
              "      <td>0.701</td>\n",
              "      <td>1.034</td>\n",
              "    </tr>\n",
              "  </tbody>\n",
              "</table>\n",
              "</div>\n",
              "      <button class=\"colab-df-convert\" onclick=\"convertToInteractive('df-fdea5ca3-a85c-4703-8e28-4a6a00259191')\"\n",
              "              title=\"Convert this dataframe to an interactive table.\"\n",
              "              style=\"display:none;\">\n",
              "        \n",
              "  <svg xmlns=\"http://www.w3.org/2000/svg\" height=\"24px\"viewBox=\"0 0 24 24\"\n",
              "       width=\"24px\">\n",
              "    <path d=\"M0 0h24v24H0V0z\" fill=\"none\"/>\n",
              "    <path d=\"M18.56 5.44l.94 2.06.94-2.06 2.06-.94-2.06-.94-.94-2.06-.94 2.06-2.06.94zm-11 1L8.5 8.5l.94-2.06 2.06-.94-2.06-.94L8.5 2.5l-.94 2.06-2.06.94zm10 10l.94 2.06.94-2.06 2.06-.94-2.06-.94-.94-2.06-.94 2.06-2.06.94z\"/><path d=\"M17.41 7.96l-1.37-1.37c-.4-.4-.92-.59-1.43-.59-.52 0-1.04.2-1.43.59L10.3 9.45l-7.72 7.72c-.78.78-.78 2.05 0 2.83L4 21.41c.39.39.9.59 1.41.59.51 0 1.02-.2 1.41-.59l7.78-7.78 2.81-2.81c.8-.78.8-2.07 0-2.86zM5.41 20L4 18.59l7.72-7.72 1.47 1.35L5.41 20z\"/>\n",
              "  </svg>\n",
              "      </button>\n",
              "      \n",
              "  <style>\n",
              "    .colab-df-container {\n",
              "      display:flex;\n",
              "      flex-wrap:wrap;\n",
              "      gap: 12px;\n",
              "    }\n",
              "\n",
              "    .colab-df-convert {\n",
              "      background-color: #E8F0FE;\n",
              "      border: none;\n",
              "      border-radius: 50%;\n",
              "      cursor: pointer;\n",
              "      display: none;\n",
              "      fill: #1967D2;\n",
              "      height: 32px;\n",
              "      padding: 0 0 0 0;\n",
              "      width: 32px;\n",
              "    }\n",
              "\n",
              "    .colab-df-convert:hover {\n",
              "      background-color: #E2EBFA;\n",
              "      box-shadow: 0px 1px 2px rgba(60, 64, 67, 0.3), 0px 1px 3px 1px rgba(60, 64, 67, 0.15);\n",
              "      fill: #174EA6;\n",
              "    }\n",
              "\n",
              "    [theme=dark] .colab-df-convert {\n",
              "      background-color: #3B4455;\n",
              "      fill: #D2E3FC;\n",
              "    }\n",
              "\n",
              "    [theme=dark] .colab-df-convert:hover {\n",
              "      background-color: #434B5C;\n",
              "      box-shadow: 0px 1px 3px 1px rgba(0, 0, 0, 0.15);\n",
              "      filter: drop-shadow(0px 1px 2px rgba(0, 0, 0, 0.3));\n",
              "      fill: #FFFFFF;\n",
              "    }\n",
              "  </style>\n",
              "\n",
              "      <script>\n",
              "        const buttonEl =\n",
              "          document.querySelector('#df-fdea5ca3-a85c-4703-8e28-4a6a00259191 button.colab-df-convert');\n",
              "        buttonEl.style.display =\n",
              "          google.colab.kernel.accessAllowed ? 'block' : 'none';\n",
              "\n",
              "        async function convertToInteractive(key) {\n",
              "          const element = document.querySelector('#df-fdea5ca3-a85c-4703-8e28-4a6a00259191');\n",
              "          const dataTable =\n",
              "            await google.colab.kernel.invokeFunction('convertToInteractive',\n",
              "                                                     [key], {});\n",
              "          if (!dataTable) return;\n",
              "\n",
              "          const docLinkHtml = 'Like what you see? Visit the ' +\n",
              "            '<a target=\"_blank\" href=https://colab.research.google.com/notebooks/data_table.ipynb>data table notebook</a>'\n",
              "            + ' to learn more about interactive tables.';\n",
              "          element.innerHTML = '';\n",
              "          dataTable['output_type'] = 'display_data';\n",
              "          await google.colab.output.renderOutput(dataTable, element);\n",
              "          const docLink = document.createElement('div');\n",
              "          docLink.innerHTML = docLinkHtml;\n",
              "          element.appendChild(docLink);\n",
              "        }\n",
              "      </script>\n",
              "    </div>\n",
              "  </div>\n",
              "  "
            ],
            "text/plain": [
              "  Subject ID         MRI ID        Group  Visit  ...  CDR  eTIV   nWBV    ASF\n",
              "0  OAS2_0001  OAS2_0001_MR1  Nondemented      1  ...  0.0  1987  0.696  0.883\n",
              "1  OAS2_0001  OAS2_0001_MR2  Nondemented      2  ...  0.0  2004  0.681  0.876\n",
              "2  OAS2_0002  OAS2_0002_MR1     Demented      1  ...  0.5  1678  0.736  1.046\n",
              "3  OAS2_0002  OAS2_0002_MR2     Demented      2  ...  0.5  1738  0.713  1.010\n",
              "4  OAS2_0002  OAS2_0002_MR3     Demented      3  ...  0.5  1698  0.701  1.034\n",
              "\n",
              "[5 rows x 15 columns]"
            ]
          },
          "metadata": {},
          "execution_count": 2
        }
      ]
    },
    {
      "cell_type": "markdown",
      "source": [
        "## **DATA CLEANING**"
      ],
      "metadata": {
        "id": "WpD4IM4KojmS"
      }
    },
    {
      "cell_type": "code",
      "source": [
        "pdData = Data.copy()     # making a copy of the dataset\n",
        "print('\\033[1mThe Dementia dataset having \"{0}\" rows and \"{1}\" columns\\033[0m.'.format(pdData.shape[0],pdData.shape[1]))                                         "
      ],
      "metadata": {
        "colab": {
          "base_uri": "https://localhost:8080/"
        },
        "id": "ax7C6yU6Zwh5",
        "outputId": "ece27098-c3d9-40a9-c189-8d5550ff9bbb"
      },
      "execution_count": null,
      "outputs": [
        {
          "output_type": "stream",
          "name": "stdout",
          "text": [
            "\u001b[1mThe Dementia dataset having \"373\" rows and \"15\" columns\u001b[0m.\n"
          ]
        }
      ]
    },
    {
      "cell_type": "code",
      "source": [
        "pdData.info()"
      ],
      "metadata": {
        "colab": {
          "base_uri": "https://localhost:8080/"
        },
        "id": "5JGZT-VYcxic",
        "outputId": "fbaad554-d7a0-4b24-81ed-80f9a6610c9c"
      },
      "execution_count": null,
      "outputs": [
        {
          "output_type": "stream",
          "name": "stdout",
          "text": [
            "<class 'pandas.core.frame.DataFrame'>\n",
            "RangeIndex: 373 entries, 0 to 372\n",
            "Data columns (total 15 columns):\n",
            " #   Column      Non-Null Count  Dtype  \n",
            "---  ------      --------------  -----  \n",
            " 0   Subject ID  373 non-null    object \n",
            " 1   MRI ID      373 non-null    object \n",
            " 2   Group       373 non-null    object \n",
            " 3   Visit       373 non-null    int64  \n",
            " 4   MR Delay    373 non-null    int64  \n",
            " 5   M/F         373 non-null    object \n",
            " 6   Hand        373 non-null    object \n",
            " 7   Age         373 non-null    int64  \n",
            " 8   EDUC        373 non-null    int64  \n",
            " 9   SES         354 non-null    float64\n",
            " 10  MMSE        371 non-null    float64\n",
            " 11  CDR         373 non-null    float64\n",
            " 12  eTIV        373 non-null    int64  \n",
            " 13  nWBV        373 non-null    float64\n",
            " 14  ASF         373 non-null    float64\n",
            "dtypes: float64(5), int64(5), object(5)\n",
            "memory usage: 43.8+ KB\n"
          ]
        }
      ]
    },
    {
      "cell_type": "code",
      "source": [
        "# Converting Categorical Data to Numerical Data\n",
        "pdData['M/F'] = pdData['M/F'].replace(['M', 'F'], [1,0])\n",
        "pdData['Group'] = [1 if each == \"Demented\" or each == \"Converted\" else 0 for each in pdData['Group']]"
      ],
      "metadata": {
        "id": "ZNG_tQbPoSuQ"
      },
      "execution_count": null,
      "outputs": []
    },
    {
      "cell_type": "code",
      "source": [
        "pdData.info()"
      ],
      "metadata": {
        "id": "r7JVfgFQh8d5",
        "colab": {
          "base_uri": "https://localhost:8080/"
        },
        "outputId": "f11b871f-dd1c-4dd6-df11-a7e2edca0dd0"
      },
      "execution_count": null,
      "outputs": [
        {
          "output_type": "stream",
          "name": "stdout",
          "text": [
            "<class 'pandas.core.frame.DataFrame'>\n",
            "RangeIndex: 373 entries, 0 to 372\n",
            "Data columns (total 15 columns):\n",
            " #   Column      Non-Null Count  Dtype  \n",
            "---  ------      --------------  -----  \n",
            " 0   Subject ID  373 non-null    object \n",
            " 1   MRI ID      373 non-null    object \n",
            " 2   Group       373 non-null    int64  \n",
            " 3   Visit       373 non-null    int64  \n",
            " 4   MR Delay    373 non-null    int64  \n",
            " 5   M/F         373 non-null    int64  \n",
            " 6   Hand        373 non-null    object \n",
            " 7   Age         373 non-null    int64  \n",
            " 8   EDUC        373 non-null    int64  \n",
            " 9   SES         354 non-null    float64\n",
            " 10  MMSE        371 non-null    float64\n",
            " 11  CDR         373 non-null    float64\n",
            " 12  eTIV        373 non-null    int64  \n",
            " 13  nWBV        373 non-null    float64\n",
            " 14  ASF         373 non-null    float64\n",
            "dtypes: float64(5), int64(7), object(3)\n",
            "memory usage: 43.8+ KB\n"
          ]
        }
      ]
    },
    {
      "cell_type": "code",
      "source": [
        "# checking missing values in dataset for each attributes / columns \n",
        "print(\"\\033[1m Column_Name       No_of_Missing_Values\")\n",
        "print(\"*\"*50)\n",
        "print(\"\\033[0m{0}\".format(pdData.isnull().sum()))\n",
        "print(\"\\033[1m*\"*50)\n",
        "\n",
        "# checking if any duplicate rows available in the dataset\n",
        "print(\"Showing Duplicate rows if any in the dataset: \")\n",
        "print(\"\\033[0m{0}\".format(pdData[pdData.duplicated()]))\n",
        "print(\"\\033[0m\")"
      ],
      "metadata": {
        "colab": {
          "base_uri": "https://localhost:8080/"
        },
        "id": "NlauZjc5nK7K",
        "outputId": "34e938c6-6773-4e24-b1c5-40fbd745127e"
      },
      "execution_count": null,
      "outputs": [
        {
          "output_type": "stream",
          "name": "stdout",
          "text": [
            "\u001b[1m Column_Name       No_of_Missing_Values\n",
            "**************************************************\n",
            "\u001b[0mSubject ID     0\n",
            "MRI ID         0\n",
            "Group          0\n",
            "Visit          0\n",
            "MR Delay       0\n",
            "M/F            0\n",
            "Hand           0\n",
            "Age            0\n",
            "EDUC           0\n",
            "SES           19\n",
            "MMSE           2\n",
            "CDR            0\n",
            "eTIV           0\n",
            "nWBV           0\n",
            "ASF            0\n",
            "dtype: int64\n",
            "\u001b[1m*\u001b[1m*\u001b[1m*\u001b[1m*\u001b[1m*\u001b[1m*\u001b[1m*\u001b[1m*\u001b[1m*\u001b[1m*\u001b[1m*\u001b[1m*\u001b[1m*\u001b[1m*\u001b[1m*\u001b[1m*\u001b[1m*\u001b[1m*\u001b[1m*\u001b[1m*\u001b[1m*\u001b[1m*\u001b[1m*\u001b[1m*\u001b[1m*\u001b[1m*\u001b[1m*\u001b[1m*\u001b[1m*\u001b[1m*\u001b[1m*\u001b[1m*\u001b[1m*\u001b[1m*\u001b[1m*\u001b[1m*\u001b[1m*\u001b[1m*\u001b[1m*\u001b[1m*\u001b[1m*\u001b[1m*\u001b[1m*\u001b[1m*\u001b[1m*\u001b[1m*\u001b[1m*\u001b[1m*\u001b[1m*\u001b[1m*\n",
            "Showing Duplicate rows if any in the dataset: \n",
            "\u001b[0mEmpty DataFrame\n",
            "Columns: [Subject ID, MRI ID, Group, Visit, MR Delay, M/F, Hand, Age, EDUC, SES, MMSE, CDR, eTIV, nWBV, ASF]\n",
            "Index: []\n",
            "\u001b[0m\n"
          ]
        }
      ]
    },
    {
      "cell_type": "code",
      "source": [
        "#@title \n",
        "#imp = SimpleImputer(missing_values=np.nan, strategy='median') #create imp object to impute median in all missing values \n",
        "#imp = imp.fit(np.array(pdData))  #calculate median values of the features with missing values\n",
        "#pdData = imp.transform(pdData)"
      ],
      "metadata": {
        "id": "rz5Lt1juuyO-",
        "cellView": "form"
      },
      "execution_count": null,
      "outputs": []
    },
    {
      "cell_type": "code",
      "source": [
        "# filling the missing values with median value of the feature\n",
        "median = pdData['MMSE'].median()\n",
        "pdData['MMSE'].fillna(median, inplace=True)\n",
        "\n",
        "median = pdData['SES'].median()\n",
        "pdData['SES'].fillna(median, inplace=True)\n",
        "pdData.isnull().sum()"
      ],
      "metadata": {
        "colab": {
          "base_uri": "https://localhost:8080/"
        },
        "id": "i6T1Xo7cpC9R",
        "outputId": "86b62ebc-87b5-4ac7-a339-92ef0fcce796"
      },
      "execution_count": null,
      "outputs": [
        {
          "output_type": "execute_result",
          "data": {
            "text/plain": [
              "Subject ID    0\n",
              "MRI ID        0\n",
              "Group         0\n",
              "Visit         0\n",
              "MR Delay      0\n",
              "M/F           0\n",
              "Hand          0\n",
              "Age           0\n",
              "EDUC          0\n",
              "SES           0\n",
              "MMSE          0\n",
              "CDR           0\n",
              "eTIV          0\n",
              "nWBV          0\n",
              "ASF           0\n",
              "dtype: int64"
            ]
          },
          "metadata": {},
          "execution_count": 8
        }
      ]
    },
    {
      "cell_type": "code",
      "source": [
        "#@title Default title text\n",
        "#import scipy.stats as stats\n",
        "#visit = pdData['Visit']\n",
        "#target = pdData['Group']\n",
        "#df = pd.DataFrame({\"visit\":visit,\"target\":target})\n",
        "#groups = df.groupby(\"target\").groups\n",
        "#demented =visit[groups[1]]\n",
        "#non_demented= visit[groups[0]]\n",
        "# Perform the ANOVA\n",
        "#stats.f_oneway(demented,non_demented)"
      ],
      "metadata": {
        "cellView": "form",
        "id": "s47afxUl51K0"
      },
      "execution_count": null,
      "outputs": []
    },
    {
      "cell_type": "markdown",
      "source": [
        "## **EXPLORATORY DATA ANALYSIS**"
      ],
      "metadata": {
        "id": "82mvLPCd2Usj"
      }
    },
    {
      "cell_type": "code",
      "source": [
        "pdData.describe().T"
      ],
      "metadata": {
        "colab": {
          "base_uri": "https://localhost:8080/",
          "height": 426
        },
        "id": "Md4yV85PnSGJ",
        "outputId": "2ba9b0df-f1b6-4e36-8073-f222505a8949"
      },
      "execution_count": null,
      "outputs": [
        {
          "output_type": "execute_result",
          "data": {
            "text/html": [
              "\n",
              "  <div id=\"df-a7bd63b7-02a0-4b08-b2b1-28f2498ae3f8\">\n",
              "    <div class=\"colab-df-container\">\n",
              "      <div>\n",
              "<style scoped>\n",
              "    .dataframe tbody tr th:only-of-type {\n",
              "        vertical-align: middle;\n",
              "    }\n",
              "\n",
              "    .dataframe tbody tr th {\n",
              "        vertical-align: top;\n",
              "    }\n",
              "\n",
              "    .dataframe thead th {\n",
              "        text-align: right;\n",
              "    }\n",
              "</style>\n",
              "<table border=\"1\" class=\"dataframe\">\n",
              "  <thead>\n",
              "    <tr style=\"text-align: right;\">\n",
              "      <th></th>\n",
              "      <th>count</th>\n",
              "      <th>mean</th>\n",
              "      <th>std</th>\n",
              "      <th>min</th>\n",
              "      <th>25%</th>\n",
              "      <th>50%</th>\n",
              "      <th>75%</th>\n",
              "      <th>max</th>\n",
              "    </tr>\n",
              "  </thead>\n",
              "  <tbody>\n",
              "    <tr>\n",
              "      <th>Group</th>\n",
              "      <td>373.0</td>\n",
              "      <td>0.490617</td>\n",
              "      <td>0.500583</td>\n",
              "      <td>0.000</td>\n",
              "      <td>0.000</td>\n",
              "      <td>0.000</td>\n",
              "      <td>1.000</td>\n",
              "      <td>1.000</td>\n",
              "    </tr>\n",
              "    <tr>\n",
              "      <th>Visit</th>\n",
              "      <td>373.0</td>\n",
              "      <td>1.882038</td>\n",
              "      <td>0.922843</td>\n",
              "      <td>1.000</td>\n",
              "      <td>1.000</td>\n",
              "      <td>2.000</td>\n",
              "      <td>2.000</td>\n",
              "      <td>5.000</td>\n",
              "    </tr>\n",
              "    <tr>\n",
              "      <th>MR Delay</th>\n",
              "      <td>373.0</td>\n",
              "      <td>595.104558</td>\n",
              "      <td>635.485118</td>\n",
              "      <td>0.000</td>\n",
              "      <td>0.000</td>\n",
              "      <td>552.000</td>\n",
              "      <td>873.000</td>\n",
              "      <td>2639.000</td>\n",
              "    </tr>\n",
              "    <tr>\n",
              "      <th>M/F</th>\n",
              "      <td>373.0</td>\n",
              "      <td>0.428954</td>\n",
              "      <td>0.495592</td>\n",
              "      <td>0.000</td>\n",
              "      <td>0.000</td>\n",
              "      <td>0.000</td>\n",
              "      <td>1.000</td>\n",
              "      <td>1.000</td>\n",
              "    </tr>\n",
              "    <tr>\n",
              "      <th>Age</th>\n",
              "      <td>373.0</td>\n",
              "      <td>77.013405</td>\n",
              "      <td>7.640957</td>\n",
              "      <td>60.000</td>\n",
              "      <td>71.000</td>\n",
              "      <td>77.000</td>\n",
              "      <td>82.000</td>\n",
              "      <td>98.000</td>\n",
              "    </tr>\n",
              "    <tr>\n",
              "      <th>EDUC</th>\n",
              "      <td>373.0</td>\n",
              "      <td>14.597855</td>\n",
              "      <td>2.876339</td>\n",
              "      <td>6.000</td>\n",
              "      <td>12.000</td>\n",
              "      <td>15.000</td>\n",
              "      <td>16.000</td>\n",
              "      <td>23.000</td>\n",
              "    </tr>\n",
              "    <tr>\n",
              "      <th>SES</th>\n",
              "      <td>373.0</td>\n",
              "      <td>2.436997</td>\n",
              "      <td>1.109307</td>\n",
              "      <td>1.000</td>\n",
              "      <td>2.000</td>\n",
              "      <td>2.000</td>\n",
              "      <td>3.000</td>\n",
              "      <td>5.000</td>\n",
              "    </tr>\n",
              "    <tr>\n",
              "      <th>MMSE</th>\n",
              "      <td>373.0</td>\n",
              "      <td>27.351206</td>\n",
              "      <td>3.675329</td>\n",
              "      <td>4.000</td>\n",
              "      <td>27.000</td>\n",
              "      <td>29.000</td>\n",
              "      <td>30.000</td>\n",
              "      <td>30.000</td>\n",
              "    </tr>\n",
              "    <tr>\n",
              "      <th>CDR</th>\n",
              "      <td>373.0</td>\n",
              "      <td>0.290885</td>\n",
              "      <td>0.374557</td>\n",
              "      <td>0.000</td>\n",
              "      <td>0.000</td>\n",
              "      <td>0.000</td>\n",
              "      <td>0.500</td>\n",
              "      <td>2.000</td>\n",
              "    </tr>\n",
              "    <tr>\n",
              "      <th>eTIV</th>\n",
              "      <td>373.0</td>\n",
              "      <td>1488.128686</td>\n",
              "      <td>176.139286</td>\n",
              "      <td>1106.000</td>\n",
              "      <td>1357.000</td>\n",
              "      <td>1470.000</td>\n",
              "      <td>1597.000</td>\n",
              "      <td>2004.000</td>\n",
              "    </tr>\n",
              "    <tr>\n",
              "      <th>nWBV</th>\n",
              "      <td>373.0</td>\n",
              "      <td>0.729568</td>\n",
              "      <td>0.037135</td>\n",
              "      <td>0.644</td>\n",
              "      <td>0.700</td>\n",
              "      <td>0.729</td>\n",
              "      <td>0.756</td>\n",
              "      <td>0.837</td>\n",
              "    </tr>\n",
              "    <tr>\n",
              "      <th>ASF</th>\n",
              "      <td>373.0</td>\n",
              "      <td>1.195461</td>\n",
              "      <td>0.138092</td>\n",
              "      <td>0.876</td>\n",
              "      <td>1.099</td>\n",
              "      <td>1.194</td>\n",
              "      <td>1.293</td>\n",
              "      <td>1.587</td>\n",
              "    </tr>\n",
              "  </tbody>\n",
              "</table>\n",
              "</div>\n",
              "      <button class=\"colab-df-convert\" onclick=\"convertToInteractive('df-a7bd63b7-02a0-4b08-b2b1-28f2498ae3f8')\"\n",
              "              title=\"Convert this dataframe to an interactive table.\"\n",
              "              style=\"display:none;\">\n",
              "        \n",
              "  <svg xmlns=\"http://www.w3.org/2000/svg\" height=\"24px\"viewBox=\"0 0 24 24\"\n",
              "       width=\"24px\">\n",
              "    <path d=\"M0 0h24v24H0V0z\" fill=\"none\"/>\n",
              "    <path d=\"M18.56 5.44l.94 2.06.94-2.06 2.06-.94-2.06-.94-.94-2.06-.94 2.06-2.06.94zm-11 1L8.5 8.5l.94-2.06 2.06-.94-2.06-.94L8.5 2.5l-.94 2.06-2.06.94zm10 10l.94 2.06.94-2.06 2.06-.94-2.06-.94-.94-2.06-.94 2.06-2.06.94z\"/><path d=\"M17.41 7.96l-1.37-1.37c-.4-.4-.92-.59-1.43-.59-.52 0-1.04.2-1.43.59L10.3 9.45l-7.72 7.72c-.78.78-.78 2.05 0 2.83L4 21.41c.39.39.9.59 1.41.59.51 0 1.02-.2 1.41-.59l7.78-7.78 2.81-2.81c.8-.78.8-2.07 0-2.86zM5.41 20L4 18.59l7.72-7.72 1.47 1.35L5.41 20z\"/>\n",
              "  </svg>\n",
              "      </button>\n",
              "      \n",
              "  <style>\n",
              "    .colab-df-container {\n",
              "      display:flex;\n",
              "      flex-wrap:wrap;\n",
              "      gap: 12px;\n",
              "    }\n",
              "\n",
              "    .colab-df-convert {\n",
              "      background-color: #E8F0FE;\n",
              "      border: none;\n",
              "      border-radius: 50%;\n",
              "      cursor: pointer;\n",
              "      display: none;\n",
              "      fill: #1967D2;\n",
              "      height: 32px;\n",
              "      padding: 0 0 0 0;\n",
              "      width: 32px;\n",
              "    }\n",
              "\n",
              "    .colab-df-convert:hover {\n",
              "      background-color: #E2EBFA;\n",
              "      box-shadow: 0px 1px 2px rgba(60, 64, 67, 0.3), 0px 1px 3px 1px rgba(60, 64, 67, 0.15);\n",
              "      fill: #174EA6;\n",
              "    }\n",
              "\n",
              "    [theme=dark] .colab-df-convert {\n",
              "      background-color: #3B4455;\n",
              "      fill: #D2E3FC;\n",
              "    }\n",
              "\n",
              "    [theme=dark] .colab-df-convert:hover {\n",
              "      background-color: #434B5C;\n",
              "      box-shadow: 0px 1px 3px 1px rgba(0, 0, 0, 0.15);\n",
              "      filter: drop-shadow(0px 1px 2px rgba(0, 0, 0, 0.3));\n",
              "      fill: #FFFFFF;\n",
              "    }\n",
              "  </style>\n",
              "\n",
              "      <script>\n",
              "        const buttonEl =\n",
              "          document.querySelector('#df-a7bd63b7-02a0-4b08-b2b1-28f2498ae3f8 button.colab-df-convert');\n",
              "        buttonEl.style.display =\n",
              "          google.colab.kernel.accessAllowed ? 'block' : 'none';\n",
              "\n",
              "        async function convertToInteractive(key) {\n",
              "          const element = document.querySelector('#df-a7bd63b7-02a0-4b08-b2b1-28f2498ae3f8');\n",
              "          const dataTable =\n",
              "            await google.colab.kernel.invokeFunction('convertToInteractive',\n",
              "                                                     [key], {});\n",
              "          if (!dataTable) return;\n",
              "\n",
              "          const docLinkHtml = 'Like what you see? Visit the ' +\n",
              "            '<a target=\"_blank\" href=https://colab.research.google.com/notebooks/data_table.ipynb>data table notebook</a>'\n",
              "            + ' to learn more about interactive tables.';\n",
              "          element.innerHTML = '';\n",
              "          dataTable['output_type'] = 'display_data';\n",
              "          await google.colab.output.renderOutput(dataTable, element);\n",
              "          const docLink = document.createElement('div');\n",
              "          docLink.innerHTML = docLinkHtml;\n",
              "          element.appendChild(docLink);\n",
              "        }\n",
              "      </script>\n",
              "    </div>\n",
              "  </div>\n",
              "  "
            ],
            "text/plain": [
              "          count         mean         std  ...       50%       75%       max\n",
              "Group     373.0     0.490617    0.500583  ...     0.000     1.000     1.000\n",
              "Visit     373.0     1.882038    0.922843  ...     2.000     2.000     5.000\n",
              "MR Delay  373.0   595.104558  635.485118  ...   552.000   873.000  2639.000\n",
              "M/F       373.0     0.428954    0.495592  ...     0.000     1.000     1.000\n",
              "Age       373.0    77.013405    7.640957  ...    77.000    82.000    98.000\n",
              "EDUC      373.0    14.597855    2.876339  ...    15.000    16.000    23.000\n",
              "SES       373.0     2.436997    1.109307  ...     2.000     3.000     5.000\n",
              "MMSE      373.0    27.351206    3.675329  ...    29.000    30.000    30.000\n",
              "CDR       373.0     0.290885    0.374557  ...     0.000     0.500     2.000\n",
              "eTIV      373.0  1488.128686  176.139286  ...  1470.000  1597.000  2004.000\n",
              "nWBV      373.0     0.729568    0.037135  ...     0.729     0.756     0.837\n",
              "ASF       373.0     1.195461    0.138092  ...     1.194     1.293     1.587\n",
              "\n",
              "[12 rows x 8 columns]"
            ]
          },
          "metadata": {},
          "execution_count": 9
        }
      ]
    },
    {
      "cell_type": "code",
      "source": [
        "# class distribution\n",
        "plt.figure(figsize=(5,5))                              \n",
        "pdData.groupby(['Group']).Group.count().plot(kind='pie',labels=['Non-Demented : 0','Demented : 1'],                                                         startangle=90, autopct='%1.1f%%')\n",
        "plt.title(\"Distribution of class : 'Demented & Non - Demented'\")   "
      ],
      "metadata": {
        "colab": {
          "base_uri": "https://localhost:8080/",
          "height": 336
        },
        "id": "thxIuBNTKp14",
        "outputId": "53bf64a5-c158-4845-d3b2-d47de3f31046"
      },
      "execution_count": null,
      "outputs": [
        {
          "output_type": "execute_result",
          "data": {
            "text/plain": [
              "Text(0.5, 1.0, \"Distribution of class : 'Demented & Non - Demented'\")"
            ]
          },
          "metadata": {},
          "execution_count": 10
        },
        {
          "output_type": "display_data",
          "data": {
            "image/png": "[encoded data removed]",
            "text/plain": [
              "<Figure size 360x360 with 1 Axes>"
            ]
          },
          "metadata": {}
        }
      ]
    },
    {
      "cell_type": "code",
      "source": [
        "# Relaionship between gender and dementia\n",
        "demented_group = pdData[pdData['Group']==1]['M/F'].value_counts()\n",
        "demented_group = pd.DataFrame(demented_group)\n",
        "demented_group.index=['Male', 'Female']\n",
        "demented_group.plot(kind='bar', figsize=(4,3))\n",
        "plt.title('Gender vs Dementia', size=16)\n",
        "plt.xlabel('Gender', size=14)\n",
        "plt.ylabel('Patients with Dementia', size=14)\n",
        "plt.xticks(rotation=0)\n",
        "plt.show()"
      ],
      "metadata": {
        "colab": {
          "base_uri": "https://localhost:8080/",
          "height": 247
        },
        "id": "_JsUHn4YoJEa",
        "outputId": "0ae47989-32e0-4117-c412-5af58f698905"
      },
      "execution_count": null,
      "outputs": [
        {
          "output_type": "display_data",
          "data": {
            "image/png": "[encoded data removed]",
            "text/plain": [
              "<Figure size 288x216 with 1 Axes>"
            ]
          },
          "metadata": {
            "needs_background": "light"
          }
        }
      ]
    },
    {
      "cell_type": "code",
      "source": [
        "# Relationship Between Age and Normalized Whole Brain Volume\n",
        "# Group: 0 = Nondemented, 1 = Demented\n",
        "\n",
        "plt.figure(figsize=(4,3))\n",
        "sns.scatterplot(x='Age', y='nWBV', data=pdData, hue='Group')\n",
        "plt.title('Age vs Normalized Whole Brain Volume', size=8)\n",
        "plt.xlabel('Age', size=7)\n",
        "plt.ylabel('Normalized Whole Brain Volume', size=7)\n",
        "plt.show()"
      ],
      "metadata": {
        "colab": {
          "base_uri": "https://localhost:8080/",
          "height": 234
        },
        "id": "VAJNKGfvo3dp",
        "outputId": "bd4dfbb0-0c1c-4593-f18e-251635f1b8c1"
      },
      "execution_count": null,
      "outputs": [
        {
          "output_type": "display_data",
          "data": {
            "image/png": "[encoded data removed]",
            "text/plain": [
              "<Figure size 288x216 with 1 Axes>"
            ]
          },
          "metadata": {
            "needs_background": "light"
          }
        }
      ]
    },
    {
      "cell_type": "code",
      "source": [
        "# Relationship Between CDR and Dementia\n",
        "plt.figure(figsize=(4,3))\n",
        "sns.scatterplot(x='Age', y='CDR', data=pdData, hue='Group')\n",
        "plt.title('Age vs Clinical Dementia Rating ', size=8)\n",
        "plt.xlabel('Age', size=7)\n",
        "plt.ylabel('Clinical Dementia Rating',size=7)\n",
        "plt.show()"
      ],
      "metadata": {
        "colab": {
          "base_uri": "https://localhost:8080/",
          "height": 234
        },
        "id": "FmLG0VDjpYdj",
        "outputId": "607da690-5e1a-4a87-ef41-aacefde66a1c"
      },
      "execution_count": null,
      "outputs": [
        {
          "output_type": "display_data",
          "data": {
            "image/png": "[encoded data removed]",
            "text/plain": [
              "<Figure size 288x216 with 1 Axes>"
            ]
          },
          "metadata": {
            "needs_background": "light"
          }
        }
      ]
    },
    {
      "cell_type": "code",
      "source": [
        "# Relationship Between MMSE and Dementia\n",
        "plt.figure(figsize=(5,3))\n",
        "sns.kdeplot(x='MMSE', shade=True, hue='Group', data=pdData)\n",
        "plt.title('Distrubtion of MMSE scores in Demented and Nondemented Patients', size=8)\n",
        "plt.xlim(pdData['MMSE'].min(), pdData['MMSE'].max())\n",
        "plt.xlabel('MMSE Score', size=7)\n",
        "plt.ylabel('Density of Scores', size=7)\n",
        "plt.show()"
      ],
      "metadata": {
        "colab": {
          "base_uri": "https://localhost:8080/",
          "height": 234
        },
        "id": "3WyhKUSIpz_l",
        "outputId": "58f8d658-ad09-41d3-9385-465864254516"
      },
      "execution_count": null,
      "outputs": [
        {
          "output_type": "display_data",
          "data": {
            "image/png": "[encoded data removed]",
            "text/plain": [
              "<Figure size 360x216 with 1 Axes>"
            ]
          },
          "metadata": {
            "needs_background": "light"
          }
        }
      ]
    },
    {
      "cell_type": "code",
      "source": [
        "#Relationship Between Education Years and Dementia\n",
        "plt.figure(figsize=(5,3))\n",
        "sns.kdeplot(x='EDUC', shade=True, hue='Group', data=pdData)\n",
        "plt.title('Years of Education vs Dementia', size=8)\n",
        "plt.xlabel('Education (years)', size=7)\n",
        "plt.ylabel('Density', size=7)\n",
        "plt.show()"
      ],
      "metadata": {
        "colab": {
          "base_uri": "https://localhost:8080/",
          "height": 234
        },
        "id": "59L3ZL2Fv_dk",
        "outputId": "6291c953-66fd-4a89-9482-30a1eb5739b6"
      },
      "execution_count": null,
      "outputs": [
        {
          "output_type": "display_data",
          "data": {
            "image/png": "[encoded data removed]",
            "text/plain": [
              "<Figure size 360x216 with 1 Axes>"
            ]
          },
          "metadata": {
            "needs_background": "light"
          }
        }
      ]
    },
    {
      "cell_type": "code",
      "source": [
        "#Relationship Between ASF & eTIV\n",
        "plt.figure(figsize=(4,3))\n",
        "sns.scatterplot(x='eTIV', y='ASF', data=pdData, hue='Group')\n",
        "plt.title('Estimated Total Intracranial Volume vs Atlas Scaling Factor ', size=8)\n",
        "plt.xlabel('Estimated Total Intracranial Volume', size=7)\n",
        "plt.ylabel('Atlas Scaling Factor',size=7)\n",
        "plt.show()"
      ],
      "metadata": {
        "colab": {
          "base_uri": "https://localhost:8080/",
          "height": 234
        },
        "id": "_B4pYTelxtFh",
        "outputId": "b5d212c6-ef14-4438-e46e-f550489ecaa9"
      },
      "execution_count": null,
      "outputs": [
        {
          "output_type": "display_data",
          "data": {
            "image/png": "[encoded data removed]",
            "text/plain": [
              "<Figure size 288x216 with 1 Axes>"
            ]
          },
          "metadata": {
            "needs_background": "light"
          }
        }
      ]
    },
    {
      "cell_type": "code",
      "source": [
        "# for correlation value plotting the heatmap\n",
        "plt.figure(figsize=(20,7))\n",
        "mask = np.zeros_like(pdData.corr())\n",
        "mask[np.triu_indices_from(mask, 1)] = True\n",
        "a = sns.heatmap(pdData.corr(),mask=mask, annot=True, fmt='.2f')"
      ],
      "metadata": {
        "colab": {
          "base_uri": "https://localhost:8080/",
          "height": 432
        },
        "id": "isXj0wCLLIzw",
        "outputId": "4fedc3a3-1081-4c0d-e536-38cd2c386155"
      },
      "execution_count": null,
      "outputs": [
        {
          "output_type": "display_data",
          "data": {
            "image/png": "[encoded data removed]",
            "text/plain": [
              "<Figure size 1440x504 with 2 Axes>"
            ]
          },
          "metadata": {
            "needs_background": "light"
          }
        }
      ]
    },
    {
      "cell_type": "markdown",
      "source": [
        "### **FEATURE SELECTION, FEATURE SCALING & TRAIN-TEST SPLIT**"
      ],
      "metadata": {
        "id": "6JdHuOYG1ihT"
      }
    },
    {
      "cell_type": "code",
      "source": [
        "# X contains features & y contains the target class\n",
        "X = pdData[['Visit','MR Delay', 'M/F', 'Age', 'EDUC', 'SES', 'MMSE', 'eTIV','CDR', 'nWBV', 'ASF']].values\n",
        "y = pdData['Group'].values\n",
        "DATA=pd.DataFrame(X)"
      ],
      "metadata": {
        "id": "7NC9qBAfxNMO"
      },
      "execution_count": null,
      "outputs": []
    },
    {
      "cell_type": "code",
      "source": [
        "#@title Default title text\n",
        "import pandas as pd\n",
        "from sklearn.ensemble import RandomForestClassifier\n",
        "from boruta import BorutaPy\n",
        "\n",
        "# define random forest classifier, with utilising all cores and\n",
        "# sampling in proportion to y labels\n",
        "rf = RandomForestClassifier(n_jobs=-1, class_weight='balanced')\n",
        "\n",
        "# define Boruta feature selection method\n",
        "feat_selector = BorutaPy(rf, n_estimators='auto', verbose=2, random_state=1)\n",
        "\n",
        "# find all relevant features - 5 features should be selected\n",
        "feat_selector.fit(X, y)\n",
        "\n",
        "# check selected features - first 5 features are selected\n",
        "feat_selector.support_\n",
        "\n",
        "# call transform() on X to filter it down to selected features\n",
        "X_filtered = feat_selector.transform(X)"
      ],
      "metadata": {
        "id": "V1vHzz_-rYoW",
        "colab": {
          "base_uri": "https://localhost:8080/"
        },
        "outputId": "611fc128-992e-483d-b68d-c34abb54431b",
        "cellView": "code"
      },
      "execution_count": null,
      "outputs": [
        {
          "output_type": "stream",
          "name": "stdout",
          "text": [
            "Iteration: \t1 / 100\n",
            "Confirmed: \t0\n",
            "Tentative: \t11\n",
            "Rejected: \t0\n",
            "Iteration: \t2 / 100\n",
            "Confirmed: \t0\n",
            "Tentative: \t11\n",
            "Rejected: \t0\n",
            "Iteration: \t3 / 100\n",
            "Confirmed: \t0\n",
            "Tentative: \t11\n",
            "Rejected: \t0\n",
            "Iteration: \t4 / 100\n",
            "Confirmed: \t0\n",
            "Tentative: \t11\n",
            "Rejected: \t0\n",
            "Iteration: \t5 / 100\n",
            "Confirmed: \t0\n",
            "Tentative: \t11\n",
            "Rejected: \t0\n",
            "Iteration: \t6 / 100\n",
            "Confirmed: \t0\n",
            "Tentative: \t11\n",
            "Rejected: \t0\n",
            "Iteration: \t7 / 100\n",
            "Confirmed: \t0\n",
            "Tentative: \t11\n",
            "Rejected: \t0\n",
            "Iteration: \t8 / 100\n",
            "Confirmed: \t4\n",
            "Tentative: \t4\n",
            "Rejected: \t3\n",
            "Iteration: \t9 / 100\n",
            "Confirmed: \t4\n",
            "Tentative: \t4\n",
            "Rejected: \t3\n",
            "Iteration: \t10 / 100\n",
            "Confirmed: \t4\n",
            "Tentative: \t4\n",
            "Rejected: \t3\n",
            "Iteration: \t11 / 100\n",
            "Confirmed: \t4\n",
            "Tentative: \t4\n",
            "Rejected: \t3\n",
            "Iteration: \t12 / 100\n",
            "Confirmed: \t4\n",
            "Tentative: \t3\n",
            "Rejected: \t4\n",
            "Iteration: \t13 / 100\n",
            "Confirmed: \t4\n",
            "Tentative: \t3\n",
            "Rejected: \t4\n",
            "Iteration: \t14 / 100\n",
            "Confirmed: \t4\n",
            "Tentative: \t3\n",
            "Rejected: \t4\n",
            "Iteration: \t15 / 100\n",
            "Confirmed: \t4\n",
            "Tentative: \t3\n",
            "Rejected: \t4\n",
            "Iteration: \t16 / 100\n",
            "Confirmed: \t4\n",
            "Tentative: \t3\n",
            "Rejected: \t4\n",
            "Iteration: \t17 / 100\n",
            "Confirmed: \t4\n",
            "Tentative: \t3\n",
            "Rejected: \t4\n",
            "Iteration: \t18 / 100\n",
            "Confirmed: \t4\n",
            "Tentative: \t3\n",
            "Rejected: \t4\n",
            "Iteration: \t19 / 100\n",
            "Confirmed: \t4\n",
            "Tentative: \t3\n",
            "Rejected: \t4\n",
            "Iteration: \t20 / 100\n",
            "Confirmed: \t4\n",
            "Tentative: \t3\n",
            "Rejected: \t4\n",
            "Iteration: \t21 / 100\n",
            "Confirmed: \t4\n",
            "Tentative: \t3\n",
            "Rejected: \t4\n",
            "Iteration: \t22 / 100\n",
            "Confirmed: \t4\n",
            "Tentative: \t2\n",
            "Rejected: \t5\n",
            "Iteration: \t23 / 100\n",
            "Confirmed: \t4\n",
            "Tentative: \t2\n",
            "Rejected: \t5\n",
            "Iteration: \t24 / 100\n",
            "Confirmed: \t4\n",
            "Tentative: \t2\n",
            "Rejected: \t5\n",
            "Iteration: \t25 / 100\n",
            "Confirmed: \t4\n",
            "Tentative: \t2\n",
            "Rejected: \t5\n",
            "Iteration: \t26 / 100\n",
            "Confirmed: \t4\n",
            "Tentative: \t1\n",
            "Rejected: \t6\n",
            "Iteration: \t27 / 100\n",
            "Confirmed: \t4\n",
            "Tentative: \t1\n",
            "Rejected: \t6\n",
            "Iteration: \t28 / 100\n",
            "Confirmed: \t4\n",
            "Tentative: \t1\n",
            "Rejected: \t6\n",
            "Iteration: \t29 / 100\n",
            "Confirmed: \t4\n",
            "Tentative: \t1\n",
            "Rejected: \t6\n",
            "Iteration: \t30 / 100\n",
            "Confirmed: \t4\n",
            "Tentative: \t1\n",
            "Rejected: \t6\n",
            "Iteration: \t31 / 100\n",
            "Confirmed: \t4\n",
            "Tentative: \t1\n",
            "Rejected: \t6\n",
            "Iteration: \t32 / 100\n",
            "Confirmed: \t4\n",
            "Tentative: \t1\n",
            "Rejected: \t6\n",
            "Iteration: \t33 / 100\n",
            "Confirmed: \t4\n",
            "Tentative: \t1\n",
            "Rejected: \t6\n",
            "Iteration: \t34 / 100\n",
            "Confirmed: \t4\n",
            "Tentative: \t1\n",
            "Rejected: \t6\n",
            "Iteration: \t35 / 100\n",
            "Confirmed: \t4\n",
            "Tentative: \t1\n",
            "Rejected: \t6\n",
            "Iteration: \t36 / 100\n",
            "Confirmed: \t4\n",
            "Tentative: \t1\n",
            "Rejected: \t6\n",
            "Iteration: \t37 / 100\n",
            "Confirmed: \t4\n",
            "Tentative: \t1\n",
            "Rejected: \t6\n",
            "Iteration: \t38 / 100\n",
            "Confirmed: \t4\n",
            "Tentative: \t1\n",
            "Rejected: \t6\n",
            "Iteration: \t39 / 100\n",
            "Confirmed: \t4\n",
            "Tentative: \t1\n",
            "Rejected: \t6\n",
            "Iteration: \t40 / 100\n",
            "Confirmed: \t4\n",
            "Tentative: \t1\n",
            "Rejected: \t6\n",
            "Iteration: \t41 / 100\n",
            "Confirmed: \t4\n",
            "Tentative: \t1\n",
            "Rejected: \t6\n",
            "Iteration: \t42 / 100\n",
            "Confirmed: \t4\n",
            "Tentative: \t1\n",
            "Rejected: \t6\n",
            "Iteration: \t43 / 100\n",
            "Confirmed: \t4\n",
            "Tentative: \t1\n",
            "Rejected: \t6\n",
            "Iteration: \t44 / 100\n",
            "Confirmed: \t4\n",
            "Tentative: \t1\n",
            "Rejected: \t6\n",
            "Iteration: \t45 / 100\n",
            "Confirmed: \t4\n",
            "Tentative: \t1\n",
            "Rejected: \t6\n",
            "Iteration: \t46 / 100\n",
            "Confirmed: \t4\n",
            "Tentative: \t1\n",
            "Rejected: \t6\n",
            "Iteration: \t47 / 100\n",
            "Confirmed: \t4\n",
            "Tentative: \t1\n",
            "Rejected: \t6\n",
            "Iteration: \t48 / 100\n",
            "Confirmed: \t4\n",
            "Tentative: \t1\n",
            "Rejected: \t6\n",
            "Iteration: \t49 / 100\n",
            "Confirmed: \t4\n",
            "Tentative: \t1\n",
            "Rejected: \t6\n",
            "Iteration: \t50 / 100\n",
            "Confirmed: \t4\n",
            "Tentative: \t1\n",
            "Rejected: \t6\n",
            "Iteration: \t51 / 100\n",
            "Confirmed: \t4\n",
            "Tentative: \t1\n",
            "Rejected: \t6\n",
            "Iteration: \t52 / 100\n",
            "Confirmed: \t4\n",
            "Tentative: \t1\n",
            "Rejected: \t6\n",
            "Iteration: \t53 / 100\n",
            "Confirmed: \t4\n",
            "Tentative: \t1\n",
            "Rejected: \t6\n",
            "Iteration: \t54 / 100\n",
            "Confirmed: \t4\n",
            "Tentative: \t1\n",
            "Rejected: \t6\n",
            "Iteration: \t55 / 100\n",
            "Confirmed: \t4\n",
            "Tentative: \t1\n",
            "Rejected: \t6\n",
            "Iteration: \t56 / 100\n",
            "Confirmed: \t4\n",
            "Tentative: \t1\n",
            "Rejected: \t6\n",
            "Iteration: \t57 / 100\n",
            "Confirmed: \t4\n",
            "Tentative: \t1\n",
            "Rejected: \t6\n",
            "Iteration: \t58 / 100\n",
            "Confirmed: \t4\n",
            "Tentative: \t1\n",
            "Rejected: \t6\n",
            "Iteration: \t59 / 100\n",
            "Confirmed: \t4\n",
            "Tentative: \t1\n",
            "Rejected: \t6\n",
            "Iteration: \t60 / 100\n",
            "Confirmed: \t4\n",
            "Tentative: \t1\n",
            "Rejected: \t6\n",
            "Iteration: \t61 / 100\n",
            "Confirmed: \t4\n",
            "Tentative: \t1\n",
            "Rejected: \t6\n",
            "Iteration: \t62 / 100\n",
            "Confirmed: \t4\n",
            "Tentative: \t1\n",
            "Rejected: \t6\n",
            "Iteration: \t63 / 100\n",
            "Confirmed: \t4\n",
            "Tentative: \t1\n",
            "Rejected: \t6\n",
            "Iteration: \t64 / 100\n",
            "Confirmed: \t4\n",
            "Tentative: \t1\n",
            "Rejected: \t6\n",
            "Iteration: \t65 / 100\n",
            "Confirmed: \t4\n",
            "Tentative: \t1\n",
            "Rejected: \t6\n",
            "Iteration: \t66 / 100\n",
            "Confirmed: \t4\n",
            "Tentative: \t1\n",
            "Rejected: \t6\n",
            "Iteration: \t67 / 100\n",
            "Confirmed: \t4\n",
            "Tentative: \t1\n",
            "Rejected: \t6\n",
            "Iteration: \t68 / 100\n",
            "Confirmed: \t4\n",
            "Tentative: \t1\n",
            "Rejected: \t6\n",
            "Iteration: \t69 / 100\n",
            "Confirmed: \t4\n",
            "Tentative: \t1\n",
            "Rejected: \t6\n",
            "Iteration: \t70 / 100\n",
            "Confirmed: \t4\n",
            "Tentative: \t1\n",
            "Rejected: \t6\n",
            "Iteration: \t71 / 100\n",
            "Confirmed: \t4\n",
            "Tentative: \t1\n",
            "Rejected: \t6\n",
            "Iteration: \t72 / 100\n",
            "Confirmed: \t4\n",
            "Tentative: \t1\n",
            "Rejected: \t6\n",
            "Iteration: \t73 / 100\n",
            "Confirmed: \t4\n",
            "Tentative: \t1\n",
            "Rejected: \t6\n",
            "Iteration: \t74 / 100\n",
            "Confirmed: \t4\n",
            "Tentative: \t1\n",
            "Rejected: \t6\n",
            "Iteration: \t75 / 100\n",
            "Confirmed: \t4\n",
            "Tentative: \t1\n",
            "Rejected: \t6\n",
            "Iteration: \t76 / 100\n",
            "Confirmed: \t4\n",
            "Tentative: \t1\n",
            "Rejected: \t6\n",
            "Iteration: \t77 / 100\n",
            "Confirmed: \t4\n",
            "Tentative: \t1\n",
            "Rejected: \t6\n",
            "Iteration: \t78 / 100\n",
            "Confirmed: \t4\n",
            "Tentative: \t1\n",
            "Rejected: \t6\n",
            "Iteration: \t79 / 100\n",
            "Confirmed: \t4\n",
            "Tentative: \t1\n",
            "Rejected: \t6\n",
            "Iteration: \t80 / 100\n",
            "Confirmed: \t4\n",
            "Tentative: \t1\n",
            "Rejected: \t6\n",
            "Iteration: \t81 / 100\n",
            "Confirmed: \t4\n",
            "Tentative: \t1\n",
            "Rejected: \t6\n",
            "Iteration: \t82 / 100\n",
            "Confirmed: \t4\n",
            "Tentative: \t1\n",
            "Rejected: \t6\n",
            "Iteration: \t83 / 100\n",
            "Confirmed: \t4\n",
            "Tentative: \t1\n",
            "Rejected: \t6\n",
            "Iteration: \t84 / 100\n",
            "Confirmed: \t4\n",
            "Tentative: \t1\n",
            "Rejected: \t6\n",
            "Iteration: \t85 / 100\n",
            "Confirmed: \t4\n",
            "Tentative: \t1\n",
            "Rejected: \t6\n",
            "Iteration: \t86 / 100\n",
            "Confirmed: \t4\n",
            "Tentative: \t1\n",
            "Rejected: \t6\n",
            "Iteration: \t87 / 100\n",
            "Confirmed: \t4\n",
            "Tentative: \t1\n",
            "Rejected: \t6\n",
            "Iteration: \t88 / 100\n",
            "Confirmed: \t4\n",
            "Tentative: \t1\n",
            "Rejected: \t6\n",
            "Iteration: \t89 / 100\n",
            "Confirmed: \t4\n",
            "Tentative: \t1\n",
            "Rejected: \t6\n",
            "Iteration: \t90 / 100\n",
            "Confirmed: \t4\n",
            "Tentative: \t1\n",
            "Rejected: \t6\n",
            "Iteration: \t91 / 100\n",
            "Confirmed: \t4\n",
            "Tentative: \t1\n",
            "Rejected: \t6\n",
            "Iteration: \t92 / 100\n",
            "Confirmed: \t4\n",
            "Tentative: \t1\n",
            "Rejected: \t6\n",
            "Iteration: \t93 / 100\n",
            "Confirmed: \t4\n",
            "Tentative: \t1\n",
            "Rejected: \t6\n",
            "Iteration: \t94 / 100\n",
            "Confirmed: \t4\n",
            "Tentative: \t1\n",
            "Rejected: \t6\n",
            "Iteration: \t95 / 100\n",
            "Confirmed: \t4\n",
            "Tentative: \t1\n",
            "Rejected: \t6\n",
            "Iteration: \t96 / 100\n",
            "Confirmed: \t4\n",
            "Tentative: \t1\n",
            "Rejected: \t6\n",
            "Iteration: \t97 / 100\n",
            "Confirmed: \t4\n",
            "Tentative: \t1\n",
            "Rejected: \t6\n",
            "Iteration: \t98 / 100\n",
            "Confirmed: \t4\n",
            "Tentative: \t1\n",
            "Rejected: \t6\n",
            "Iteration: \t99 / 100\n",
            "Confirmed: \t4\n",
            "Tentative: \t1\n",
            "Rejected: \t6\n",
            "\n",
            "\n",
            "BorutaPy finished running.\n",
            "\n",
            "Iteration: \t100 / 100\n",
            "Confirmed: \t4\n",
            "Tentative: \t1\n",
            "Rejected: \t6\n"
          ]
        }
      ]
    },
    {
      "cell_type": "code",
      "source": [
        "feature_ranks = list(zip(DATA.columns, \n",
        "                         feat_selector.ranking_, \n",
        "                         feat_selector.support_))\n",
        "\n",
        "# iterate through and print out the results\n",
        "for feat in feature_ranks:\n",
        "    print('Feature: {:<25} Rank: {},  Keep: {}'.format(feat[0], feat[1], feat[2]))"
      ],
      "metadata": {
        "colab": {
          "base_uri": "https://localhost:8080/"
        },
        "id": "S8aWE8hQtpuv",
        "outputId": "c9844b17-7bf8-4036-c88f-6e27ef81d234"
      },
      "execution_count": null,
      "outputs": [
        {
          "output_type": "stream",
          "name": "stdout",
          "text": [
            "Feature: 0                         Rank: 8,  Keep: False\n",
            "Feature: 1                         Rank: 5,  Keep: False\n",
            "Feature: 2                         Rank: 6,  Keep: False\n",
            "Feature: 3                         Rank: 3,  Keep: False\n",
            "Feature: 4                         Rank: 4,  Keep: False\n",
            "Feature: 5                         Rank: 7,  Keep: False\n",
            "Feature: 6                         Rank: 1,  Keep: True\n",
            "Feature: 7                         Rank: 1,  Keep: True\n",
            "Feature: 8                         Rank: 1,  Keep: True\n",
            "Feature: 9                         Rank: 1,  Keep: True\n",
            "Feature: 10                        Rank: 2,  Keep: False\n"
          ]
        }
      ]
    },
    {
      "cell_type": "code",
      "source": [
        "# X contains features & y contains the target class\n",
        "X = pdData[[ 'M/F', 'Age', 'EDUC','MMSE', 'eTIV','CDR', 'nWBV', 'ASF']].values\n",
        "y = pdData['Group'].values"
      ],
      "metadata": {
        "id": "yISk8aabwXmZ"
      },
      "execution_count": null,
      "outputs": []
    },
    {
      "cell_type": "code",
      "source": [
        "#@title Default title text\n",
        "#Split the data into training and test set in the ratio of 70:30 respectively\n",
        "X_train, X_test, y_train, y_test = train_test_split(X_scaled, y, test_size= 0.30, random_state=42)\n",
        "\n",
        "df_ytrain = pd.DataFrame(y_train)\n",
        "df_ytest = pd.DataFrame(y_test)\n",
        "\n",
        "print('In Training Split:')\n",
        "print(df_ytrain[0].value_counts())\n",
        "\n",
        "print('\\nIn Testing Split:')\n",
        "print(df_ytest[0].value_counts())\n",
        "\n",
        "print('Train set shape:',X_train.shape)\n",
        "print('Test set shape:',X_test.shape)"
      ],
      "metadata": {
        "id": "Y6Bp855ygPva",
        "cellView": "form"
      },
      "execution_count": null,
      "outputs": []
    },
    {
      "cell_type": "code",
      "source": [
        "# startified\n",
        "def split(X,y):\n",
        "  X_train, X_test, y_train, y_test = train_test_split(X, y, test_size= 0.30, random_state=42, stratify=y)\n",
        "\n",
        "  # feature scaling\n",
        "  scaler = StandardScaler()\n",
        "  X_train = scaler.fit_transform(X_train)\n",
        "  X_test = scaler.fit_transform(X_test)\n",
        "\n",
        "  df_ytrain = pd.DataFrame(y_train)\n",
        "  df_ytest = pd.DataFrame(y_test)\n",
        "\n",
        "  print('In Training Split:')\n",
        "  print(df_ytrain[0].value_counts())\n",
        "\n",
        "  print('\\nIn Testing Split:')\n",
        "  print(df_ytest[0].value_counts())\n",
        "\n",
        "  return X_train, X_test, y_train, y_test"
      ],
      "metadata": {
        "id": "aS2Y86AYg3HX"
      },
      "execution_count": null,
      "outputs": []
    },
    {
      "cell_type": "code",
      "source": [
        "X_train, X_test, y_train, y_test = split(X,y)"
      ],
      "metadata": {
        "colab": {
          "base_uri": "https://localhost:8080/"
        },
        "id": "OCqfNkmoJ4mw",
        "outputId": "c3fd794b-121d-47ef-ea86-187687edaa4f"
      },
      "execution_count": null,
      "outputs": [
        {
          "output_type": "stream",
          "name": "stdout",
          "text": [
            "In Training Split:\n",
            "0    133\n",
            "1    128\n",
            "Name: 0, dtype: int64\n",
            "\n",
            "In Testing Split:\n",
            "0    57\n",
            "1    55\n",
            "Name: 0, dtype: int64\n"
          ]
        }
      ]
    },
    {
      "cell_type": "markdown",
      "source": [
        "### **FUNCTIONS FOR ML ALGOTITHMS**"
      ],
      "metadata": {
        "id": "W0FZ1s_b11iX"
      }
    },
    {
      "cell_type": "code",
      "source": [
        "def plot_confusion_matrix(y_test, yhat):\n",
        "    cm = confusion_matrix(y_test, yhat)\n",
        "    ax= plt.subplot()\n",
        "    sns.heatmap(cm, annot=True, ax=ax, fmt='g', cmap=plt.cm.Blues, cbar=False);\n",
        "    ax.set_xlabel('Predicted labels')\n",
        "    ax.set_ylabel('True labels')\n",
        "    ax.set_title('Confusion Matrix', size=8); \n",
        "    ax.xaxis.set_ticklabels(['Nondemented', 'Demented']); ax.yaxis.set_ticklabels(['Nondemented', 'Demented'])"
      ],
      "metadata": {
        "id": "pxCxq1ooYt9h"
      },
      "execution_count": null,
      "outputs": []
    },
    {
      "cell_type": "code",
      "source": [
        "# Logistic Regression\n",
        "def LoR(X_tr,Y_tr,X_te,Y_te):\n",
        "  lr = LogisticRegression(random_state=42)\n",
        "  lr.fit(X_tr,Y_tr)\n",
        "  lr_y_pred = lr.predict(X_te)\n",
        "\n",
        "  # Confusion Matrix for the Logistic Regression Model\n",
        "  plot_confusion_matrix(Y_te,lr_y_pred)\n",
        "\n",
        "  # Classification Report for the Logistic Regression Model\n",
        "  print(\"Classification Report : Logistic Regression\")\n",
        "  classRep = classification_report(Y_te, lr_y_pred, digits=2)\n",
        "  print(classRep)"
      ],
      "metadata": {
        "id": "1QixyzGSixru"
      },
      "execution_count": null,
      "outputs": []
    },
    {
      "cell_type": "code",
      "source": [
        "# KNN\n",
        "def KNN(X_tr,Y_tr,X_te,Y_te):\n",
        "  # creating odd list of K for KNN\n",
        "  kvalue = list(range(1,40,2))\n",
        "\n",
        "  # creating empty list for accuracy odd different value of K\n",
        "  acc = []\n",
        "\n",
        "  # perform accuracy metrics for values from different k values\n",
        "  for k in kvalue:\n",
        "      knn = KNeighborsClassifier(n_neighbors=k)\n",
        "      knn.fit(X_train, y_train)\n",
        "      # predict \n",
        "      y_pred = knn.predict(X_test)\n",
        "      # evaluate accuracy\n",
        "      accuracy = accuracy_score(y_test, y_pred)\n",
        "      acc.append(accuracy)\n",
        "\n",
        "  # determining best k\n",
        "  bestk = kvalue[acc.index(max(acc))]\n",
        "  print(\"The optimal number of neighbors is %d\" % bestk)\n",
        "  plt.plot(kvalue,acc)\n",
        "\n",
        "  # instantiate learning model (here k = 1)\n",
        "  knn = KNeighborsClassifier(n_neighbors = bestk, weights = 'uniform', metric='euclidean')\n",
        "\n",
        "  # fitting the model\n",
        "  knn.fit(X_train, y_train)\n",
        "\n",
        "  # predict the response\n",
        "  knn_y_pred = knn.predict(X_test)\n",
        "\n",
        "  # Confusion Matrix for the K-nearest neighbors Model\n",
        "  plot_confusion_matrix(Y_te,knn_y_pred)\n",
        "\n",
        "  # Classification Report for the K-nearest neighbors Model\n",
        "  print(\"Classification Report : K-nearest neighbors\")\n",
        "  classRep = classification_report(y_test, knn_y_pred, digits=2)\n",
        "  print(classRep)"
      ],
      "metadata": {
        "id": "sw86XZnCi7T7"
      },
      "execution_count": null,
      "outputs": []
    },
    {
      "cell_type": "code",
      "source": [
        "# Naive Bayes\n",
        "def NB(X_tr,Y_tr,X_te,Y_te):\n",
        "  # naive bayes\n",
        "  nb = GaussianNB()\n",
        "  nb.fit(X_tr , Y_tr)\n",
        "\n",
        "  # predict the response\n",
        "  nb_y_pred = nb.predict(X_te)\n",
        "\n",
        "  # Confusion Matrix for the Naive Bayes\n",
        "  plot_confusion_matrix(Y_te,nb_y_pred)\n",
        "\n",
        "  # Classification Report for the Naive Bayes Model\n",
        "  print(\"Classification Report : Naive Bayes\")\n",
        "  classRep = classification_report(Y_te, nb_y_pred, digits=2)\n",
        "  print(classRep)"
      ],
      "metadata": {
        "id": "C_Xw4kdtP0tY"
      },
      "execution_count": null,
      "outputs": []
    },
    {
      "cell_type": "code",
      "source": [
        "# Decision Tree\n",
        "def DT(X_tr,Y_tr,X_te,Y_te):\n",
        "  # Decison Tree\n",
        "  dt = DecisionTreeClassifier(random_state=42)\n",
        "  dt.fit(X_tr , Y_tr)\n",
        "\n",
        "  # predict the response\n",
        "  dt_y_pred = dt.predict(X_te)\n",
        "\n",
        "  # Confusion Matrix for the Decision Tree\n",
        "  plot_confusion_matrix(Y_te,dt_y_pred)\n",
        "\n",
        "  # Classification Report for the Decision Tree Model\n",
        "  print(\"Classification Report : Decision Tree\")\n",
        "  classRep = classification_report(Y_te, dt_y_pred, digits=2)\n",
        "  print(classRep)"
      ],
      "metadata": {
        "id": "n7in8ksDR_eu"
      },
      "execution_count": null,
      "outputs": []
    },
    {
      "cell_type": "code",
      "source": [
        "# SVM\n",
        "def svm(X_tr,Y_tr,X_te,Y_te):\n",
        "  # Normally, C = 1 and gamma = 'scale' are default values\n",
        "  # C controls how wide the margin will be with respect to how many misclassification we are allowing\n",
        "  # C is increasing --> reduce the size of the margin and fewer misclassification and vice versa\n",
        "  param_grid = [\n",
        "      {'C': [0.5, 1, 2, 3, 4, 5, 6, 7, 8, 9, 10, 30, 50, 80, 100],\n",
        "      'gamma': ['scale', 0.5, 0.125, 1, 0.1, 0.01, 0.001, 0.0001, 0.00001],\n",
        "      'kernel': ['rbf', 'linear', 'poly', 'sigmoid']},\n",
        "  ]\n",
        "\n",
        "  optimal_params = GridSearchCV(SVC(),\n",
        "                              param_grid,\n",
        "                              cv=10, #  taking 10-fold as in k-fold cross validation\n",
        "                              scoring='accuracy', \n",
        "                              verbose=0,\n",
        "                              n_jobs=-1)\n",
        "\n",
        "  optimal_params.fit(X_train, y_train)\n",
        "  print(optimal_params.best_params_)\n",
        "\n",
        "  #svm\n",
        "  C = optimal_params.best_params_['C']\n",
        "  gamma = optimal_params.best_params_['gamma']\n",
        "  kernel = optimal_params.best_params_['kernel']\n",
        "\n",
        "  svm = SVC(C=C, gamma=gamma, kernel=kernel)\n",
        "  svm.fit(X_tr,Y_tr)\n",
        "\n",
        "  # predict the response\n",
        "  svm_y_pred = svm.predict(X_te)\n",
        "\n",
        "  # Confusion Matrix for the Support Vector Machine Model\n",
        "  plot_confusion_matrix(Y_te,svm_y_pred)\n",
        "\n",
        "  # Classification Report for the Support Vector Machine Model\n",
        "  print(\"Classification Report : Support Vector Machine\")\n",
        "  classRep = classification_report(Y_te, svm_y_pred, digits=2)\n",
        "  print(classRep)"
      ],
      "metadata": {
        "id": "IQjxE5Zs4XTL"
      },
      "execution_count": null,
      "outputs": []
    },
    {
      "cell_type": "markdown",
      "source": [
        "### **FUNCTIONS FOR ENSEMBLE MODELS**"
      ],
      "metadata": {
        "id": "tzVSEK7XAE4k"
      }
    },
    {
      "cell_type": "code",
      "source": [
        "# ensemble stacking\n",
        "def Ensemble(X_tr,Y_tr,X_te,Y_te):\n",
        "  level0 = list()\n",
        "  level0.append(('lr', LogisticRegression(random_state=42)))\n",
        "  level0.append(('knn', KNeighborsClassifier(n_neighbors = 1, weights = 'uniform', metric='euclidean')))\n",
        "  level0.append(('cart', DecisionTreeClassifier(random_state=42)))\n",
        "  level0.append(('svm', SVC(C= 30, gamma= 0.125, kernel= 'rbf')))\n",
        "  level0.append(('bayes', GaussianNB()))\n",
        "\n",
        "  # define meta learner model\n",
        "  level1 = LogisticRegression(random_state=42)\n",
        "\n",
        "  # define the stacking ensemble with cross validation of 5\n",
        "  Stack_model = StackingClassifier(estimators=level0, final_estimator=level1)\n",
        "\n",
        "  # predict the response\n",
        "  Stack_model.fit(X_tr, Y_tr)\n",
        "  prediction_Stack = Stack_model.predict(X_te)\n",
        "\n",
        "  # Confusion Matrix for the Stacking Model\n",
        "  plot_confusion_matrix(Y_te,prediction_Stack)\n",
        "\n",
        "  # Classification Report for the Stacking Model\n",
        "  print(\"Classification Report : Stacking\")\n",
        "  print(classification_report(Y_te, prediction_Stack, digits=2))"
      ],
      "metadata": {
        "id": "wuinAaUSo36Q"
      },
      "execution_count": null,
      "outputs": []
    },
    {
      "cell_type": "code",
      "source": [
        "  level0 = list()\n",
        "  level0.append(('lr', LogisticRegression(random_state=42)))\n",
        "  level0.append(('knn', KNeighborsClassifier(n_neighbors = 1, weights = 'uniform', metric='euclidean')))\n",
        "  level0.append(('cart', DecisionTreeClassifier(random_state=42)))\n",
        "  level0.append(('svm', SVC(C= 30, gamma= 0.125, kernel= 'rbf')))\n",
        "  level0.append(('bayes', GaussianNB()))\n",
        "\n",
        "  # define meta learner model\n",
        "  level1 = LogisticRegression(random_state=42)"
      ],
      "metadata": {
        "id": "CU7MskmktANN"
      },
      "execution_count": null,
      "outputs": []
    },
    {
      "cell_type": "code",
      "source": [
        "def RF(X_tr,Y_tr,X_te,Y_te):\n",
        "  \n",
        "  # Create the param grid\n",
        "  param_grid = {'n_estimators': [int(x) for x in np.linspace(start = 10, stop = 100, num = 10)],# Number of trees in random forest\n",
        "                'max_depth': range(1,10),# Maximum number of levels in tree\n",
        "                'criterion':['gini','entropy'] }# measure the quality of a split\n",
        "\n",
        "  optimal_params = GridSearchCV(RandomForestClassifier(),\n",
        "                              param_grid,\n",
        "                              cv=10, # we are taking 10-fold as in k-fold cross validation\n",
        "                              scoring='accuracy', \n",
        "                              verbose=0,\n",
        "                              n_jobs=-1)\n",
        "\n",
        "  optimal_params.fit(X_train, y_train)\n",
        "  print(optimal_params.best_params_)\n",
        "\n",
        "  criterion = optimal_params.best_params_['criterion']\n",
        "  max_depth = optimal_params.best_params_['max_depth']\n",
        "  n_estimators = optimal_params.best_params_['n_estimators']\n",
        "\n",
        "  #creating model of Random Forest\n",
        "  RandomForest = RandomForestClassifier(n_estimators = n_estimators, max_depth=max_depth, criterion=criterion,random_state=42)\n",
        "  RandomForest = RandomForest.fit(X_tr, Y_tr)\n",
        "\n",
        "  # predict the response\n",
        "  RandomForest_pred = RandomForest.predict(X_te)\n",
        "\n",
        "  # Confusion Matrix for the Random Forest Model\n",
        "  plot_confusion_matrix(Y_te,RandomForest_pred)\n",
        "\n",
        "  # Classification Report for the Randome Forest Model\n",
        "  print(\"Classification Report : Random Forest\")\n",
        "  print(classification_report(Y_te, RandomForest_pred, digits=2))    \n"
      ],
      "metadata": {
        "id": "uep6XxtsEQ1u"
      },
      "execution_count": null,
      "outputs": []
    },
    {
      "cell_type": "code",
      "source": [
        "def Adaboost(X_tr,Y_tr,X_te,Y_te):\n",
        "  param_grid = {'n_estimators': [int(x) for x in np.linspace(start = 10, stop = 100, num = 10)]}\n",
        "  optimal_params = GridSearchCV(AdaBoostClassifier(),\n",
        "                              param_grid,\n",
        "                              cv=10, # we are taking 10-fold as in k-fold cross validation\n",
        "                              scoring='accuracy', \n",
        "                              verbose=0,\n",
        "                              n_jobs=-1)\n",
        "\n",
        "  optimal_params.fit(X_train, y_train)\n",
        "  print(optimal_params.best_params_)\n",
        "  n_estimators = optimal_params.best_params_['n_estimators']\n",
        "  \n",
        "  #creating model of Adaptive Boosting\n",
        "  AdBs = AdaBoostClassifier( n_estimators= n_estimators)\n",
        "  AdBs  = AdBs.fit(X_tr, Y_tr)\n",
        "\n",
        "  # predict the response\n",
        "  AdBs_y_pred = AdBs.predict(X_te)\n",
        "\n",
        "  # Confusion Matrix for the Adaptive Boosting Model\n",
        "  plot_confusion_matrix(Y_te,AdBs_y_pred)\n",
        "\n",
        "  # Classification Report for the Adaptive Boosting Model\n",
        "  print(\"Classification Report : Adaptive Boosting\")\n",
        "  print(classification_report(Y_te, AdBs_y_pred, digits=2))"
      ],
      "metadata": {
        "id": "0Ld1wOxWpYJd"
      },
      "execution_count": null,
      "outputs": []
    },
    {
      "cell_type": "code",
      "source": [
        "def xgboost(X_tr,Y_tr,X_te,Y_te):\n",
        "  param_grid = {'n_estimators': [int(x) for x in np.linspace(start = 10, stop = 100, num = 10)]}\n",
        "  optimal_params = GridSearchCV(XGBClassifier(),\n",
        "                              param_grid,\n",
        "                              cv=10, # we are taking 10-fold as in k-fold cross validation\n",
        "                              scoring='accuracy', \n",
        "                              verbose=0,\n",
        "                              n_jobs=-1)\n",
        "\n",
        "  optimal_params.fit(X_train, y_train)\n",
        "  print(optimal_params.best_params_)\n",
        "  n_estimators = optimal_params.best_params_['n_estimators']\n",
        "  xgBs =XGBClassifier(n_estimators= n_estimators)\n",
        "  xgBs  = xgBs.fit(X_tr, Y_tr)\n",
        "\n",
        "  # predict the response\n",
        "  xgBs_y_pred = xgBs.predict(X_te)\n",
        "\n",
        "  # Confusion Matrix for the Adaptive Boosting Model\n",
        "  plot_confusion_matrix(Y_te,xgBs_y_pred)\n",
        "\n",
        "  # Classification Report for the Adaptive Boosting Model\n",
        "  print(\"Classification Report : XG Boosting\")\n",
        "  print(classification_report(Y_te, xgBs_y_pred, digits=2))"
      ],
      "metadata": {
        "id": "90v71GoP6wKC"
      },
      "execution_count": null,
      "outputs": []
    },
    {
      "cell_type": "markdown",
      "source": [
        "### **MODEL EVALUATION**"
      ],
      "metadata": {
        "id": "guSLPoRJ2I3e"
      }
    },
    {
      "cell_type": "code",
      "source": [
        "LoR(X_train, y_train,X_test,y_test)"
      ],
      "metadata": {
        "colab": {
          "base_uri": "https://localhost:8080/",
          "height": 466
        },
        "id": "ne3MSOiZkD_H",
        "outputId": "233b562c-14f5-4986-cfc5-eba0888a39e2"
      },
      "execution_count": null,
      "outputs": [
        {
          "output_type": "stream",
          "name": "stdout",
          "text": [
            "Classification Report : Logistic Regression\n",
            "              precision    recall  f1-score   support\n",
            "\n",
            "           0       0.90      1.00      0.95        57\n",
            "           1       1.00      0.89      0.94        55\n",
            "\n",
            "    accuracy                           0.95       112\n",
            "   macro avg       0.95      0.95      0.95       112\n",
            "weighted avg       0.95      0.95      0.95       112\n",
            "\n"
          ]
        },
        {
          "output_type": "display_data",
          "data": {
            "image/png": "[encoded data removed]",
            "text/plain": [
              "<Figure size 432x288 with 1 Axes>"
            ]
          },
          "metadata": {
            "needs_background": "light"
          }
        }
      ]
    },
    {
      "cell_type": "code",
      "source": [
        "KNN(X_train, y_train,X_test,y_test)"
      ],
      "metadata": {
        "colab": {
          "base_uri": "https://localhost:8080/",
          "height": 483
        },
        "id": "GN-pFrkri-fF",
        "outputId": "b350ccd1-e3c6-4cf1-f3dc-985039c87b19"
      },
      "execution_count": null,
      "outputs": [
        {
          "output_type": "stream",
          "name": "stdout",
          "text": [
            "The optimal number of neighbors is 5\n",
            "Classification Report : K-nearest neighbors\n",
            "              precision    recall  f1-score   support\n",
            "\n",
            "           0       0.90      0.98      0.94        57\n",
            "           1       0.98      0.89      0.93        55\n",
            "\n",
            "    accuracy                           0.94       112\n",
            "   macro avg       0.94      0.94      0.94       112\n",
            "weighted avg       0.94      0.94      0.94       112\n",
            "\n"
          ]
        },
        {
          "output_type": "display_data",
          "data": {
            "image/png": "[encoded data removed]",
            "text/plain": [
              "<Figure size 432x288 with 1 Axes>"
            ]
          },
          "metadata": {
            "needs_background": "light"
          }
        }
      ]
    },
    {
      "cell_type": "code",
      "source": [
        "NB(X_train, y_train,X_test,y_test)"
      ],
      "metadata": {
        "colab": {
          "base_uri": "https://localhost:8080/",
          "height": 466
        },
        "id": "StDLRhFclXbN",
        "outputId": "5f27a01e-a8d4-4a03-e7e7-0abec6ffa5cd"
      },
      "execution_count": null,
      "outputs": [
        {
          "output_type": "stream",
          "name": "stdout",
          "text": [
            "Classification Report : Naive Bayes\n",
            "              precision    recall  f1-score   support\n",
            "\n",
            "           0       0.90      1.00      0.95        57\n",
            "           1       1.00      0.89      0.94        55\n",
            "\n",
            "    accuracy                           0.95       112\n",
            "   macro avg       0.95      0.95      0.95       112\n",
            "weighted avg       0.95      0.95      0.95       112\n",
            "\n"
          ]
        },
        {
          "output_type": "display_data",
          "data": {
            "image/png": "[encoded data removed]",
            "text/plain": [
              "<Figure size 432x288 with 1 Axes>"
            ]
          },
          "metadata": {
            "needs_background": "light"
          }
        }
      ]
    },
    {
      "cell_type": "code",
      "source": [
        "DT(X_train, y_train,X_test,y_test)"
      ],
      "metadata": {
        "colab": {
          "base_uri": "https://localhost:8080/",
          "height": 466
        },
        "id": "7wEixgnAlhaO",
        "outputId": "7dbddeef-963d-4160-e55d-ce0ddfe4ca95"
      },
      "execution_count": null,
      "outputs": [
        {
          "output_type": "stream",
          "name": "stdout",
          "text": [
            "Classification Report : Decision Tree\n",
            "              precision    recall  f1-score   support\n",
            "\n",
            "           0       0.90      0.91      0.90        57\n",
            "           1       0.91      0.89      0.90        55\n",
            "\n",
            "    accuracy                           0.90       112\n",
            "   macro avg       0.90      0.90      0.90       112\n",
            "weighted avg       0.90      0.90      0.90       112\n",
            "\n"
          ]
        },
        {
          "output_type": "display_data",
          "data": {
            "image/png": "[encoded data removed]",
            "text/plain": [
              "<Figure size 432x288 with 1 Axes>"
            ]
          },
          "metadata": {
            "needs_background": "light"
          }
        }
      ]
    },
    {
      "cell_type": "code",
      "source": [
        "svm(X_train, y_train,X_test,y_test)"
      ],
      "metadata": {
        "colab": {
          "base_uri": "https://localhost:8080/",
          "height": 483
        },
        "id": "BXFjLefEjD-t",
        "outputId": "54705023-9bef-4aa6-e8f5-4cff695bbdae"
      },
      "execution_count": null,
      "outputs": [
        {
          "output_type": "stream",
          "name": "stdout",
          "text": [
            "{'C': 6, 'gamma': 0.5, 'kernel': 'rbf'}\n",
            "Classification Report : Support Vector Machine\n",
            "              precision    recall  f1-score   support\n",
            "\n",
            "           0       0.89      0.89      0.89        57\n",
            "           1       0.89      0.89      0.89        55\n",
            "\n",
            "    accuracy                           0.89       112\n",
            "   macro avg       0.89      0.89      0.89       112\n",
            "weighted avg       0.89      0.89      0.89       112\n",
            "\n"
          ]
        },
        {
          "output_type": "display_data",
          "data": {
            "image/png": "[encoded data removed]",
            "text/plain": [
              "<Figure size 432x288 with 1 Axes>"
            ]
          },
          "metadata": {
            "needs_background": "light"
          }
        }
      ]
    },
    {
      "cell_type": "code",
      "source": [
        "Ensemble(X_train, y_train,X_test,y_test)"
      ],
      "metadata": {
        "colab": {
          "base_uri": "https://localhost:8080/",
          "height": 466
        },
        "id": "69u5OGMApDkL",
        "outputId": "0a33a220-80b2-4201-9dc9-bf8c78858887"
      },
      "execution_count": null,
      "outputs": [
        {
          "output_type": "stream",
          "name": "stdout",
          "text": [
            "Classification Report : Stacking\n",
            "              precision    recall  f1-score   support\n",
            "\n",
            "           0       0.92      0.95      0.93        57\n",
            "           1       0.94      0.91      0.93        55\n",
            "\n",
            "    accuracy                           0.93       112\n",
            "   macro avg       0.93      0.93      0.93       112\n",
            "weighted avg       0.93      0.93      0.93       112\n",
            "\n"
          ]
        },
        {
          "output_type": "display_data",
          "data": {
            "image/png": "[encoded data removed]",
            "text/plain": [
              "<Figure size 432x288 with 1 Axes>"
            ]
          },
          "metadata": {
            "needs_background": "light"
          }
        }
      ]
    },
    {
      "cell_type": "code",
      "source": [
        "RF(X_train, y_train,X_test,y_test)"
      ],
      "metadata": {
        "colab": {
          "base_uri": "https://localhost:8080/",
          "height": 483
        },
        "id": "OBDn6dDEpEc0",
        "outputId": "8db42875-5104-402e-82a7-c737e2c9f169"
      },
      "execution_count": null,
      "outputs": [
        {
          "output_type": "stream",
          "name": "stdout",
          "text": [
            "{'criterion': 'gini', 'max_depth': 7, 'n_estimators': 10}\n",
            "Classification Report : Random Forest\n",
            "              precision    recall  f1-score   support\n",
            "\n",
            "           0       0.90      0.98      0.94        57\n",
            "           1       0.98      0.89      0.93        55\n",
            "\n",
            "    accuracy                           0.94       112\n",
            "   macro avg       0.94      0.94      0.94       112\n",
            "weighted avg       0.94      0.94      0.94       112\n",
            "\n"
          ]
        },
        {
          "output_type": "display_data",
          "data": {
            "image/png": "[encoded data removed]",
            "text/plain": [
              "<Figure size 432x288 with 1 Axes>"
            ]
          },
          "metadata": {
            "needs_background": "light"
          }
        }
      ]
    },
    {
      "cell_type": "code",
      "source": [
        "Adaboost(X_train, y_train,X_test,y_test)"
      ],
      "metadata": {
        "colab": {
          "base_uri": "https://localhost:8080/",
          "height": 483
        },
        "id": "ecwSaa0sp8h8",
        "outputId": "5324fc6b-8f21-4e11-e5f9-b05842419657"
      },
      "execution_count": null,
      "outputs": [
        {
          "output_type": "stream",
          "name": "stdout",
          "text": [
            "{'n_estimators': 20}\n",
            "Classification Report : Adaptive Boosting\n",
            "              precision    recall  f1-score   support\n",
            "\n",
            "           0       0.89      0.95      0.92        57\n",
            "           1       0.94      0.87      0.91        55\n",
            "\n",
            "    accuracy                           0.91       112\n",
            "   macro avg       0.91      0.91      0.91       112\n",
            "weighted avg       0.91      0.91      0.91       112\n",
            "\n"
          ]
        },
        {
          "output_type": "display_data",
          "data": {
            "image/png": "[encoded data removed]",
            "text/plain": [
              "<Figure size 432x288 with 1 Axes>"
            ]
          },
          "metadata": {
            "needs_background": "light"
          }
        }
      ]
    },
    {
      "cell_type": "code",
      "source": [
        "xgboost(X_train, y_train,X_test,y_test)"
      ],
      "metadata": {
        "colab": {
          "base_uri": "https://localhost:8080/",
          "height": 483
        },
        "id": "Nj8qIO2Kqyii",
        "outputId": "2d5d60db-c840-48fe-a6de-4f6bc02b1cbd"
      },
      "execution_count": null,
      "outputs": [
        {
          "output_type": "stream",
          "name": "stdout",
          "text": [
            "{'n_estimators': 20}\n",
            "Classification Report : XG Boosting\n",
            "              precision    recall  f1-score   support\n",
            "\n",
            "           0       0.90      1.00      0.95        57\n",
            "           1       1.00      0.89      0.94        55\n",
            "\n",
            "    accuracy                           0.95       112\n",
            "   macro avg       0.95      0.95      0.95       112\n",
            "weighted avg       0.95      0.95      0.95       112\n",
            "\n"
          ]
        },
        {
          "output_type": "display_data",
          "data": {
            "image/png": "[encoded data removed]",
            "text/plain": [
              "<Figure size 432x288 with 1 Axes>"
            ]
          },
          "metadata": {
            "needs_background": "light"
          }
        }
      ]
    },
    {
      "cell_type": "markdown",
      "source": [
        "### **5 FOLD STRATIFIED CROSS VALIDATION**"
      ],
      "metadata": {
        "id": "DFm_UjeM22Uj"
      }
    },
    {
      "cell_type": "code",
      "source": [
        "def skfold(X_scaled,y):\n",
        "  #Using K fold to check how the various algorighms varies throughout the dataset with 10 different subset of equal bins\n",
        "  models = []\n",
        "  models.append(('Logistic Regression', LogisticRegression(random_state= 42)))\n",
        "  models.append(('K-NN', KNeighborsClassifier(n_neighbors = 1, weights = 'uniform', metric='euclidean')))\n",
        "  models.append(('SVM', SVC(C= 30, gamma= 0.125, kernel= 'rbf')))\n",
        "  models.append(('Naive Bayes',GaussianNB()))\n",
        "  models.append(('Decision Tree',DecisionTreeClassifier()))\n",
        "  models.append(('Stacking', StackingClassifier(estimators=level0, final_estimator=level1)))\n",
        "  models.append(('Random Forest', RandomForestClassifier(criterion= 'entropy', max_depth= 8, n_estimators= 10,random_state=42)))\n",
        "  models.append(('Adaptive Boosting', AdaBoostClassifier( n_estimators= 20)))\n",
        "  models.append(('XG Boosting', XGBClassifier( n_estimators= 50)))\n",
        "\n",
        "\n",
        "  # evaluate each model with scoring method accuracy\n",
        "  print(\"*\"*125)\n",
        "  print(\"Accuracy of the Models\")\n",
        "  print(\"*\"*125)\n",
        "  Table = PrettyTable([\"Model_Name\",\"Train_Acc (mean)\" ,\"Test_Acc (mean)\"]) \n",
        "  results_acc = []\n",
        "  scoring = 'accuracy'\n",
        "  for name, model in models:\n",
        "      kfold = StratifiedKFold(n_splits=10)\n",
        "      cv_results = model_selection.cross_validate(model, X_scaled, y, cv=kfold, scoring=scoring,return_train_score=True)\n",
        "      results_acc.append(cv_results)\n",
        "      Table.add_row([name,round(cv_results['train_score'].mean(),2),round(cv_results['test_score'].mean(),2) ]) \n",
        "  print(Table)\n",
        "\n",
        "\n",
        "  print()\n",
        "  print(\"*\"*125)\n",
        "  print(\"F1 score of the Models\")\n",
        "  print(\"*\"*125)\n",
        "  Table1 = PrettyTable([\"Model_Name\",\"Train_F1\",\"Test_F1\"]) \n",
        "  # evaluate each model with scoring method f1\n",
        "  results_f1 = []\n",
        "  names = []\n",
        "  scoring = 'f1'\n",
        "  for name, model in models:\n",
        "      kfold = StratifiedKFold(n_splits=10)\n",
        "      cv_results = model_selection.cross_validate(model, X_scaled,y, cv=kfold, scoring=scoring,return_train_score=True)\n",
        "      results_f1.append(cv_results)\n",
        "      Table1.add_row([name,round(cv_results['train_score'].mean(),2),round(cv_results['test_score'].mean(),2) ])\n",
        "  print(Table1)"
      ],
      "metadata": {
        "id": "s0BnjaS2vBNn"
      },
      "execution_count": null,
      "outputs": []
    },
    {
      "cell_type": "code",
      "source": [
        "scaler = StandardScaler()\n",
        "X_scaled = scaler.fit_transform(X)\n",
        "\n",
        "skfold(X_scaled,y)"
      ],
      "metadata": {
        "colab": {
          "base_uri": "https://localhost:8080/"
        },
        "id": "biwSmFCa1SF-",
        "outputId": "733d487e-08c1-45bd-ed67-d0c337e30e23"
      },
      "execution_count": null,
      "outputs": [
        {
          "output_type": "stream",
          "name": "stdout",
          "text": [
            "*****************************************************************************************************************************\n",
            "Accuracy of the Models\n",
            "*****************************************************************************************************************************\n",
            "+---------------------+------------------+-----------------+\n",
            "|      Model_Name     | Train_Acc (mean) | Test_Acc (mean) |\n",
            "+---------------------+------------------+-----------------+\n",
            "| Logistic Regression |       0.95       |       0.95      |\n",
            "|         K-NN        |       1.0        |       0.88      |\n",
            "|         SVM         |       0.97       |       0.89      |\n",
            "|     Naive Bayes     |       0.95       |       0.95      |\n",
            "|    Decision Tree    |       1.0        |       0.89      |\n",
            "|       Stacking      |       0.95       |       0.95      |\n",
            "|    Random Forest    |       0.98       |       0.94      |\n",
            "|  Adaptive Boosting  |       0.96       |       0.93      |\n",
            "|     XG Boosting     |       0.96       |       0.95      |\n",
            "+---------------------+------------------+-----------------+\n",
            "\n",
            "*****************************************************************************************************************************\n",
            "F1 score of the Models\n",
            "*****************************************************************************************************************************\n",
            "+---------------------+----------+---------+\n",
            "|      Model_Name     | Train_F1 | Test_F1 |\n",
            "+---------------------+----------+---------+\n",
            "| Logistic Regression |   0.94   |   0.94  |\n",
            "|         K-NN        |   1.0    |   0.88  |\n",
            "|         SVM         |   0.97   |   0.88  |\n",
            "|     Naive Bayes     |   0.94   |   0.94  |\n",
            "|    Decision Tree    |   1.0    |   0.9   |\n",
            "|       Stacking      |   0.94   |   0.94  |\n",
            "|    Random Forest    |   0.98   |   0.93  |\n",
            "|  Adaptive Boosting  |   0.96   |   0.93  |\n",
            "|     XG Boosting     |   0.95   |   0.95  |\n",
            "+---------------------+----------+---------+\n"
          ]
        }
      ]
    },
    {
      "cell_type": "markdown",
      "source": [
        "### **PCA**"
      ],
      "metadata": {
        "id": "x6rRFSBElnfX"
      }
    },
    {
      "cell_type": "code",
      "source": [
        "Xf = pdData[['Visit','MR Delay', 'M/F', 'Age', 'EDUC', 'SES', 'MMSE', 'eTIV','CDR', 'nWBV', 'ASF']].values\n",
        "yf = pdData['Group'].values\n",
        "Xf_scaled = scaler.fit_transform(Xf)"
      ],
      "metadata": {
        "id": "CQ4L7gdN2r4y"
      },
      "execution_count": null,
      "outputs": []
    },
    {
      "cell_type": "code",
      "source": [
        "from sklearn.decomposition import PCA\n",
        "\n",
        "pca = PCA().fit(Xf_scaled)\n",
        "\n",
        "% matplotlib inline\n",
        "import matplotlib.pyplot as plt\n",
        "plt.rcParams[\"figure.figsize\"] = (12,6)\n",
        "\n",
        "fig, ax = plt.subplots()\n",
        "xi = np.arange(1,12, step=1)\n",
        "yi = np.cumsum(pca.explained_variance_ratio_)\n",
        "\n",
        "plt.ylim(0.0,1.1)\n",
        "plt.plot(xi, yi, marker='o', linestyle='--', color='b')\n",
        "plt.xticks(np.arange(0, 10, step=1)) #change from 0-based array index to 1-based human-readable label\n",
        "plt.xlabel('Number of Components')\n",
        "\n",
        "plt.ylabel('Cumulative variance (%)')\n",
        "plt.title('The number of components needed to explain variance')\n",
        "\n",
        "plt.axhline(y=0.95, color='r', linestyle='-')\n",
        "plt.text(0.5, 0.85, '95% cut-off threshold', color = 'red', fontsize=16)\n",
        "\n",
        "ax.grid(axis='x')\n",
        "plt.show()"
      ],
      "metadata": {
        "colab": {
          "base_uri": "https://localhost:8080/",
          "height": 404
        },
        "id": "A36KcBtkoPVD",
        "outputId": "60bf3cc8-fec9-44f3-87cb-08921c60c71f"
      },
      "execution_count": null,
      "outputs": [
        {
          "output_type": "display_data",
          "data": {
            "image/png": "[encoded data removed]",
            "text/plain": [
              "<Figure size 864x432 with 1 Axes>"
            ]
          },
          "metadata": {
            "needs_background": "light"
          }
        }
      ]
    },
    {
      "cell_type": "code",
      "source": [
        "# Set the n_components=6\n",
        "principal=PCA(n_components=0.95)\n",
        "principal.fit(Xf_scaled)\n",
        "x_pca=principal.transform(Xf_scaled)\n",
        "# Check the dimensions of data after PCA\n",
        "print(x_pca.shape)"
      ],
      "metadata": {
        "colab": {
          "base_uri": "https://localhost:8080/"
        },
        "id": "BqTRdNCoTqoY",
        "outputId": "c94030f7-1016-4c91-f104-73dc8004e279"
      },
      "execution_count": null,
      "outputs": [
        {
          "output_type": "stream",
          "name": "stdout",
          "text": [
            "(373, 8)\n"
          ]
        }
      ]
    },
    {
      "cell_type": "code",
      "source": [
        "#@title\n",
        "x_train, x_test, y_train, y_test = train_test_split(x_pca, yf, test_size= 0.30, random_state=42,stratify=y)\n",
        "\n",
        "df_ytrain = pd.DataFrame(y_train)\n",
        "df_ytest = pd.DataFrame(y_test)\n",
        "\n",
        "print('In Training Split:')\n",
        "print(df_ytrain[0].value_counts())\n",
        "\n",
        "print('\\nIn Testing Split:')\n",
        "print(df_ytest[0].value_counts())"
      ],
      "metadata": {
        "id": "ERv3pVz1UKCP",
        "cellView": "form"
      },
      "execution_count": null,
      "outputs": []
    },
    {
      "cell_type": "code",
      "source": [
        "#@title\n",
        "LoR(x_train,y_train,x_test,y_test)"
      ],
      "metadata": {
        "id": "odzVthioUUiO",
        "cellView": "form"
      },
      "execution_count": null,
      "outputs": []
    },
    {
      "cell_type": "code",
      "source": [
        "#@title\n",
        "NB(x_train,y_train,x_test,y_test)"
      ],
      "metadata": {
        "id": "gERRh3GT2WNj",
        "cellView": "form"
      },
      "execution_count": null,
      "outputs": []
    },
    {
      "cell_type": "code",
      "source": [
        "#@title\n",
        "DT(x_train,y_train,x_test,y_test)"
      ],
      "metadata": {
        "id": "ggLoV_9k1qoQ",
        "cellView": "form"
      },
      "execution_count": null,
      "outputs": []
    },
    {
      "cell_type": "code",
      "source": [
        "#@title\n",
        "skfold(x_pca,y)"
      ],
      "metadata": {
        "id": "ZpDirVAX1ju3",
        "cellView": "form"
      },
      "execution_count": null,
      "outputs": []
    },
    {
      "cell_type": "code",
      "source": [
        "#@title PCA Hardcoded\n",
        "def PCA(X_scaled, num_components):\n",
        "      \n",
        "  #Step-2\n",
        "  cov_mat = np.cov(X_scaled , rowvar = False)\n",
        "     \n",
        "  #Step-3\n",
        "  eigen_values , eigen_vectors = np.linalg.eigh(cov_mat)\n",
        "     \n",
        "  #Step-4\n",
        "  sorted_index = np.argsort(eigen_values)[::-1]\n",
        "  sorted_eigenvalue = eigen_values[sorted_index]\n",
        "  sorted_eigenvectors = eigen_vectors[:,sorted_index]\n",
        "  print(sorted_eigenvalue )\n",
        "  print()\n",
        "  print(eigen_values)\n",
        "  #Step-5\n",
        "  eigenvector_subset = sorted_eigenvectors[:,0:num_components]\n",
        "     \n",
        "  #Step-6\n",
        "  X_reduced = np.dot(eigenvector_subset.transpose() , X_scaled.transpose() ).transpose()\n",
        "     \n",
        "  return X_reduced\n",
        "\n",
        "x=PCA(X_scaled,6)"
      ],
      "metadata": {
        "id": "KazoeXT2WFoH",
        "cellView": "form"
      },
      "execution_count": null,
      "outputs": []
    }
  ]
}